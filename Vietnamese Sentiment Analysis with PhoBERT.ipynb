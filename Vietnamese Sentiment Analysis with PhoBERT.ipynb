{
 "cells": [
  {
   "cell_type": "markdown",
   "id": "1587581f",
   "metadata": {
    "papermill": {
     "duration": 0.028007,
     "end_time": "2022-04-07T12:00:53.037973",
     "exception": false,
     "start_time": "2022-04-07T12:00:53.009966",
     "status": "completed"
    },
    "tags": []
   },
   "source": [
    "### About the Dataset: UIT-VSMEC\n",
    "Emotion recognition, a specialized field within sentiment analysis, delves into a nuanced understanding of text sentiments beyond mere positive or negative polarity or numerical ratings. Instead, it discerns emotions such as enjoyment, disgust, sadness, anger, surprise, fear, and others, offering a richer insight into text sentiment. In the pursuit of advancing emotion recognition research in Vietnamese, a low-resource language in Natural Language Processing (NLP), the University of Information Technology (UIT) has developed the Vietnamese Social Media Emotion Corpus (UIT-VSMEC).\n",
    "\n",
    "UIT-VSMEC comprises approximately 6,927 human-annotated sentences, each labeled with one of six emotion categories. This corpus serves as a standardized benchmark for emotion recognition tasks, facilitating the evaluation and comparison of machine learning and deep neural network models. The development of UIT-VSMEC not only contributes significantly to Vietnamese emotion recognition research but also addresses the scarcity of resources for NLP in Vietnamese. Among the various models assessed on UIT-VSMEC, Convolutional Neural Network (CNN) emerged with the highest performance, achieving a notable F1-score of 57.61%.\n",
    "\n",
    "Through UIT-VSMEC, researchers and practitioners are equipped with a valuable resource to delve into the intricacies of emotion recognition in Vietnamese text, thereby enhancing the understanding of customer sentiments and augmenting brand value assessment methodologies. This corpus stands as a testament to the continuous efforts in advancing NLP capabilities for languages with limited resources, fostering innovation and progress in the field of emotion recognition."
   ]
  },
  {
   "cell_type": "markdown",
   "id": "b0f76a58",
   "metadata": {
    "papermill": {
     "duration": 0.026169,
     "end_time": "2022-04-07T12:00:53.092358",
     "exception": false,
     "start_time": "2022-04-07T12:00:53.066189",
     "status": "completed"
    },
    "tags": []
   },
   "source": [
    "## Set Up\n",
    "\n",
    "In this section, starting by installing necessary libraries and packages for project. Installing `openpyxl`, a library for reading Excel files, and then proceed to install other libraries like `pandas`, `seaborn`, `matplotlib`, `gensim`, `scikit-learn`, and `transformers`. These libraries are essential for data manipulation, visualization, machine learning modeling, and BERT-based text processing."
   ]
  },
  {
   "cell_type": "code",
   "execution_count": 1,
   "id": "23da7292",
   "metadata": {
    "_kg_hide-output": true,
    "papermill": {
     "duration": 10.03404,
     "end_time": "2022-04-07T12:01:03.152791",
     "exception": false,
     "start_time": "2022-04-07T12:00:53.118751",
     "status": "completed"
    },
    "tags": []
   },
   "outputs": [
    {
     "name": "stdout",
     "output_type": "stream",
     "text": [
      "Requirement already satisfied: openpyxl in d:\\anaconda3\\envs\\env_cuda\\lib\\site-packages (3.1.2)\n",
      "Requirement already satisfied: et-xmlfile in d:\\anaconda3\\envs\\env_cuda\\lib\\site-packages (from openpyxl) (1.1.0)\n"
     ]
    }
   ],
   "source": [
    "# For read excel format form pandas\n",
    "!pip install openpyxl"
   ]
  },
  {
   "cell_type": "code",
   "execution_count": 2,
   "id": "8aa4cb9e-3a39-4cbd-9208-2f2cbc5fef89",
   "metadata": {},
   "outputs": [
    {
     "name": "stdout",
     "output_type": "stream",
     "text": [
      "Requirement already satisfied: pandas in d:\\anaconda3\\envs\\env_cuda\\lib\\site-packages (2.2.1)\n",
      "Requirement already satisfied: seaborn in d:\\anaconda3\\envs\\env_cuda\\lib\\site-packages (0.13.2)\n",
      "Requirement already satisfied: matplotlib in d:\\anaconda3\\envs\\env_cuda\\lib\\site-packages (3.8.4)\n",
      "Requirement already satisfied: gensim in d:\\anaconda3\\envs\\env_cuda\\lib\\site-packages (4.3.2)\n",
      "Requirement already satisfied: scikit-learn in d:\\anaconda3\\envs\\env_cuda\\lib\\site-packages (1.4.1.post1)\n",
      "Requirement already satisfied: transformers in d:\\anaconda3\\envs\\env_cuda\\lib\\site-packages (4.39.3)\n",
      "Requirement already satisfied: numpy<2,>=1.22.4 in d:\\anaconda3\\envs\\env_cuda\\lib\\site-packages (from pandas) (1.26.4)\n",
      "Requirement already satisfied: python-dateutil>=2.8.2 in d:\\anaconda3\\envs\\env_cuda\\lib\\site-packages (from pandas) (2.8.2)\n",
      "Requirement already satisfied: pytz>=2020.1 in d:\\anaconda3\\envs\\env_cuda\\lib\\site-packages (from pandas) (2023.3.post1)\n",
      "Requirement already satisfied: tzdata>=2022.7 in d:\\anaconda3\\envs\\env_cuda\\lib\\site-packages (from pandas) (2024.1)\n",
      "Requirement already satisfied: contourpy>=1.0.1 in d:\\anaconda3\\envs\\env_cuda\\lib\\site-packages (from matplotlib) (1.2.1)\n",
      "Requirement already satisfied: cycler>=0.10 in d:\\anaconda3\\envs\\env_cuda\\lib\\site-packages (from matplotlib) (0.12.1)\n",
      "Requirement already satisfied: fonttools>=4.22.0 in d:\\anaconda3\\envs\\env_cuda\\lib\\site-packages (from matplotlib) (4.50.0)\n",
      "Requirement already satisfied: kiwisolver>=1.3.1 in d:\\anaconda3\\envs\\env_cuda\\lib\\site-packages (from matplotlib) (1.4.5)\n",
      "Requirement already satisfied: packaging>=20.0 in d:\\anaconda3\\envs\\env_cuda\\lib\\site-packages (from matplotlib) (23.2)\n",
      "Requirement already satisfied: pillow>=8 in d:\\anaconda3\\envs\\env_cuda\\lib\\site-packages (from matplotlib) (10.2.0)\n",
      "Requirement already satisfied: pyparsing>=2.3.1 in d:\\anaconda3\\envs\\env_cuda\\lib\\site-packages (from matplotlib) (3.1.2)\n",
      "Requirement already satisfied: importlib-resources>=3.2.0 in d:\\anaconda3\\envs\\env_cuda\\lib\\site-packages (from matplotlib) (6.4.0)\n",
      "Requirement already satisfied: scipy>=1.7.0 in d:\\anaconda3\\envs\\env_cuda\\lib\\site-packages (from gensim) (1.12.0)\n",
      "Requirement already satisfied: smart-open>=1.8.1 in d:\\anaconda3\\envs\\env_cuda\\lib\\site-packages (from gensim) (7.0.4)\n",
      "Requirement already satisfied: joblib>=1.2.0 in d:\\anaconda3\\envs\\env_cuda\\lib\\site-packages (from scikit-learn) (1.3.2)\n",
      "Requirement already satisfied: threadpoolctl>=2.0.0 in d:\\anaconda3\\envs\\env_cuda\\lib\\site-packages (from scikit-learn) (3.4.0)\n",
      "Requirement already satisfied: filelock in d:\\anaconda3\\envs\\env_cuda\\lib\\site-packages (from transformers) (3.13.1)\n",
      "Requirement already satisfied: huggingface-hub<1.0,>=0.19.3 in d:\\anaconda3\\envs\\env_cuda\\lib\\site-packages (from transformers) (0.22.2)\n",
      "Requirement already satisfied: pyyaml>=5.1 in d:\\anaconda3\\envs\\env_cuda\\lib\\site-packages (from transformers) (6.0.1)\n",
      "Requirement already satisfied: regex!=2019.12.17 in d:\\anaconda3\\envs\\env_cuda\\lib\\site-packages (from transformers) (2023.12.25)\n",
      "Requirement already satisfied: requests in d:\\anaconda3\\envs\\env_cuda\\lib\\site-packages (from transformers) (2.31.0)\n",
      "Requirement already satisfied: tokenizers<0.19,>=0.14 in d:\\anaconda3\\envs\\env_cuda\\lib\\site-packages (from transformers) (0.15.2)\n",
      "Requirement already satisfied: safetensors>=0.4.1 in d:\\anaconda3\\envs\\env_cuda\\lib\\site-packages (from transformers) (0.4.2)\n",
      "Requirement already satisfied: tqdm>=4.27 in d:\\anaconda3\\envs\\env_cuda\\lib\\site-packages (from transformers) (4.66.2)\n",
      "Requirement already satisfied: fsspec>=2023.5.0 in d:\\anaconda3\\envs\\env_cuda\\lib\\site-packages (from huggingface-hub<1.0,>=0.19.3->transformers) (2024.3.1)\n",
      "Requirement already satisfied: typing-extensions>=3.7.4.3 in d:\\anaconda3\\envs\\env_cuda\\lib\\site-packages (from huggingface-hub<1.0,>=0.19.3->transformers) (4.9.0)\n",
      "Requirement already satisfied: zipp>=3.1.0 in d:\\anaconda3\\envs\\env_cuda\\lib\\site-packages (from importlib-resources>=3.2.0->matplotlib) (3.17.0)\n",
      "Requirement already satisfied: six>=1.5 in d:\\anaconda3\\envs\\env_cuda\\lib\\site-packages (from python-dateutil>=2.8.2->pandas) (1.16.0)\n",
      "Requirement already satisfied: wrapt in d:\\anaconda3\\envs\\env_cuda\\lib\\site-packages (from smart-open>=1.8.1->gensim) (1.14.1)\n",
      "Requirement already satisfied: colorama in d:\\anaconda3\\envs\\env_cuda\\lib\\site-packages (from tqdm>=4.27->transformers) (0.4.6)\n",
      "Requirement already satisfied: charset-normalizer<4,>=2 in d:\\anaconda3\\envs\\env_cuda\\lib\\site-packages (from requests->transformers) (2.0.4)\n",
      "Requirement already satisfied: idna<4,>=2.5 in d:\\anaconda3\\envs\\env_cuda\\lib\\site-packages (from requests->transformers) (3.4)\n",
      "Requirement already satisfied: urllib3<3,>=1.21.1 in d:\\anaconda3\\envs\\env_cuda\\lib\\site-packages (from requests->transformers) (2.1.0)\n",
      "Requirement already satisfied: certifi>=2017.4.17 in d:\\anaconda3\\envs\\env_cuda\\lib\\site-packages (from requests->transformers) (2024.2.2)\n"
     ]
    }
   ],
   "source": [
    "!pip install pandas seaborn matplotlib gensim scikit-learn transformers"
   ]
  },
  {
   "cell_type": "code",
   "execution_count": 3,
   "id": "5dd5b2e4",
   "metadata": {
    "papermill": {
     "duration": 7.351928,
     "end_time": "2022-04-07T12:01:10.538229",
     "exception": false,
     "start_time": "2022-04-07T12:01:03.186301",
     "status": "completed"
    },
    "tags": []
   },
   "outputs": [
    {
     "name": "stderr",
     "output_type": "stream",
     "text": [
      "D:\\anaconda3\\envs\\env_cuda\\lib\\site-packages\\tqdm\\auto.py:21: TqdmWarning: IProgress not found. Please update jupyter and ipywidgets. See https://ipywidgets.readthedocs.io/en/stable/user_install.html\n",
      "  from .autonotebook import tqdm as notebook_tqdm\n"
     ]
    }
   ],
   "source": [
    "import torch\n",
    "import numpy as np\n",
    "import pandas as pd\n",
    "import seaborn as sns\n",
    "import matplotlib.pyplot as plt\n",
    "\n",
    "from gensim.utils import simple_preprocess\n",
    "from sklearn.model_selection import StratifiedKFold\n",
    "from sklearn.metrics import classification_report, confusion_matrix\n",
    "\n",
    "from torch import nn as nn\n",
    "from torch.optim import AdamW\n",
    "from torch.utils.data import Dataset, DataLoader\n",
    "\n",
    "from transformers import get_linear_schedule_with_warmup, AutoTokenizer, AutoModel, logging\n",
    "\n",
    "import warnings\n",
    "#warnings.filterwarnings(\"ignore\")\n",
    "\n",
    "logging.set_verbosity_error()"
   ]
  },
  {
   "cell_type": "markdown",
   "id": "86d701ab",
   "metadata": {},
   "source": [
    "Check for the availability of CUDA for GPU acceleration, which can significantly speed up model training if available."
   ]
  },
  {
   "cell_type": "code",
   "execution_count": 4,
   "id": "dea4f6df-d212-48aa-9c4a-c17c9684b50b",
   "metadata": {},
   "outputs": [
    {
     "name": "stdout",
     "output_type": "stream",
     "text": [
      "True\n",
      "1\n",
      "NVIDIA GeForce RTX 3060\n"
     ]
    }
   ],
   "source": [
    "\n",
    "# Check if CUDA is available\n",
    "print(torch.cuda.is_available())\n",
    "\n",
    "# Get the CUDA device count\n",
    "print(torch.cuda.device_count())\n",
    "\n",
    "# Get the CUDA device name\n",
    "print(torch.cuda.get_device_name(0))"
   ]
  },
  {
   "cell_type": "markdown",
   "id": "d2d66c5b",
   "metadata": {},
   "source": [
    "Initialize hyperparameters for machine."
   ]
  },
  {
   "cell_type": "code",
   "execution_count": 5,
   "id": "ac940f5c",
   "metadata": {
    "papermill": {
     "duration": 0.036841,
     "end_time": "2022-04-07T12:01:10.727849",
     "exception": false,
     "start_time": "2022-04-07T12:01:10.691008",
     "status": "completed"
    },
    "tags": []
   },
   "outputs": [],
   "source": [
    "device = torch.device('cuda:0' if torch.cuda.is_available() is True else 'cpu')\n",
    "#device = torch.device('cpu')\n",
    "EPOCHS = 6\n",
    "N_SPLITS = 5"
   ]
  },
  {
   "cell_type": "markdown",
   "id": "1eab4c51",
   "metadata": {
    "papermill": {
     "duration": 0.028776,
     "end_time": "2022-04-07T12:01:10.785833",
     "exception": false,
     "start_time": "2022-04-07T12:01:10.757057",
     "status": "completed"
    },
    "tags": []
   },
   "source": [
    "## Load Data\n",
    "\n",
    "This section defines functions to load data from Excel files into Pandas DataFrames. I have training, validation, and testing datasets. The training dataset is further split using stratified k-fold cross-validation, a technique to ensure each fold has a proportional representation of different classes."
   ]
  },
  {
   "cell_type": "code",
   "execution_count": 6,
   "id": "8009a3e0",
   "metadata": {
    "papermill": {
     "duration": 0.99781,
     "end_time": "2022-04-07T12:01:11.812711",
     "exception": false,
     "start_time": "2022-04-07T12:01:10.814901",
     "status": "completed"
    },
    "tags": []
   },
   "outputs": [],
   "source": [
    "def get_data(path):\n",
    "    df = pd.read_excel(path, sheet_name=None)['Sheet1']\n",
    "    df.columns = ['index', 'Emotion', 'Sentence']\n",
    "    # unused column\n",
    "    df.drop(columns=['index'], inplace=True)\n",
    "    return df\n",
    "\n",
    "train_df = get_data('train_nor_811.xlsx')\n",
    "valid_df = get_data('valid_nor_811.xlsx')\n",
    "test_df = get_data('test_nor_811.xlsx')\n",
    "\n",
    "# We will use Kfold later\n",
    "train_df = pd.concat([train_df, valid_df], ignore_index=True)\n",
    "skf = StratifiedKFold(n_splits=N_SPLITS)\n",
    "for fold, (_, val_) in enumerate(skf.split(X=train_df, y=train_df.Emotion)):\n",
    "    train_df.loc[val_, \"kfold\"] = fold"
   ]
  },
  {
   "cell_type": "code",
   "execution_count": 7,
   "id": "8fb17bf5",
   "metadata": {
    "papermill": {
     "duration": 0.046463,
     "end_time": "2022-04-07T12:01:11.888839",
     "exception": false,
     "start_time": "2022-04-07T12:01:11.842376",
     "status": "completed"
    },
    "tags": []
   },
   "outputs": [
    {
     "data": {
      "text/html": [
       "<div>\n",
       "<style scoped>\n",
       "    .dataframe tbody tr th:only-of-type {\n",
       "        vertical-align: middle;\n",
       "    }\n",
       "\n",
       "    .dataframe tbody tr th {\n",
       "        vertical-align: top;\n",
       "    }\n",
       "\n",
       "    .dataframe thead th {\n",
       "        text-align: right;\n",
       "    }\n",
       "</style>\n",
       "<table border=\"1\" class=\"dataframe\">\n",
       "  <thead>\n",
       "    <tr style=\"text-align: right;\">\n",
       "      <th></th>\n",
       "      <th>Emotion</th>\n",
       "      <th>Sentence</th>\n",
       "      <th>kfold</th>\n",
       "    </tr>\n",
       "  </thead>\n",
       "  <tbody>\n",
       "    <tr>\n",
       "      <th>5142</th>\n",
       "      <td>Enjoyment</td>\n",
       "      <td>lời được cánh của sắt tàu hỏa ngon rồi</td>\n",
       "      <td>4.0</td>\n",
       "    </tr>\n",
       "    <tr>\n",
       "      <th>5350</th>\n",
       "      <td>Enjoyment</td>\n",
       "      <td>per nói bao nhiêu lần cũng không thấy đủ ... e...</td>\n",
       "      <td>4.0</td>\n",
       "    </tr>\n",
       "    <tr>\n",
       "      <th>5461</th>\n",
       "      <td>Fear</td>\n",
       "      <td>t chỉ sợ cảnh đấu kiếm :((</td>\n",
       "      <td>4.0</td>\n",
       "    </tr>\n",
       "    <tr>\n",
       "      <th>4198</th>\n",
       "      <td>Disgust</td>\n",
       "      <td>đúng là tuổi tác nó không chứng minh được gì c...</td>\n",
       "      <td>3.0</td>\n",
       "    </tr>\n",
       "    <tr>\n",
       "      <th>4855</th>\n",
       "      <td>Other</td>\n",
       "      <td>cô ơi nhiệt tình là tốt nhưng bản thân phải an...</td>\n",
       "      <td>3.0</td>\n",
       "    </tr>\n",
       "  </tbody>\n",
       "</table>\n",
       "</div>"
      ],
      "text/plain": [
       "        Emotion                                           Sentence  kfold\n",
       "5142  Enjoyment             lời được cánh của sắt tàu hỏa ngon rồi    4.0\n",
       "5350  Enjoyment  per nói bao nhiêu lần cũng không thấy đủ ... e...    4.0\n",
       "5461       Fear                         t chỉ sợ cảnh đấu kiếm :((    4.0\n",
       "4198    Disgust  đúng là tuổi tác nó không chứng minh được gì c...    3.0\n",
       "4855      Other  cô ơi nhiệt tình là tốt nhưng bản thân phải an...    3.0"
      ]
     },
     "execution_count": 7,
     "metadata": {},
     "output_type": "execute_result"
    }
   ],
   "source": [
    "train_df.sample(5)"
   ]
  },
  {
   "cell_type": "code",
   "execution_count": 8,
   "id": "f3122fda",
   "metadata": {
    "papermill": {
     "duration": 0.055147,
     "end_time": "2022-04-07T12:01:11.974218",
     "exception": false,
     "start_time": "2022-04-07T12:01:11.919071",
     "status": "completed"
    },
    "tags": []
   },
   "outputs": [
    {
     "name": "stdout",
     "output_type": "stream",
     "text": [
      "<class 'pandas.core.frame.DataFrame'>\n",
      "RangeIndex: 6234 entries, 0 to 6233\n",
      "Data columns (total 3 columns):\n",
      " #   Column    Non-Null Count  Dtype  \n",
      "---  ------    --------------  -----  \n",
      " 0   Emotion   6234 non-null   object \n",
      " 1   Sentence  6234 non-null   object \n",
      " 2   kfold     6234 non-null   float64\n",
      "dtypes: float64(1), object(2)\n",
      "memory usage: 146.2+ KB\n",
      "<class 'pandas.core.frame.DataFrame'>\n",
      "RangeIndex: 693 entries, 0 to 692\n",
      "Data columns (total 2 columns):\n",
      " #   Column    Non-Null Count  Dtype \n",
      "---  ------    --------------  ----- \n",
      " 0   Emotion   693 non-null    object\n",
      " 1   Sentence  693 non-null    object\n",
      "dtypes: object(2)\n",
      "memory usage: 11.0+ KB\n"
     ]
    },
    {
     "data": {
      "text/plain": [
       "(None, None)"
      ]
     },
     "execution_count": 8,
     "metadata": {},
     "output_type": "execute_result"
    }
   ],
   "source": [
    "train_df.info(), test_df.info()"
   ]
  },
  {
   "cell_type": "markdown",
   "id": "727ae6b6",
   "metadata": {
    "papermill": {
     "duration": 0.030657,
     "end_time": "2022-04-07T12:01:12.035492",
     "exception": false,
     "start_time": "2022-04-07T12:01:12.004835",
     "status": "completed"
    },
    "tags": []
   },
   "source": [
    "**=> No Missing Values**"
   ]
  },
  {
   "cell_type": "code",
   "execution_count": 9,
   "id": "2ecac534",
   "metadata": {
    "papermill": {
     "duration": 0.269834,
     "end_time": "2022-04-07T12:01:12.336513",
     "exception": false,
     "start_time": "2022-04-07T12:01:12.066679",
     "status": "completed"
    },
    "tags": []
   },
   "outputs": [
    {
     "data": {
      "text/plain": [
       "<Axes: xlabel='Emotion', ylabel='count'>"
      ]
     },
     "execution_count": 9,
     "metadata": {},
     "output_type": "execute_result"
    },
    {
     "data": {
      "image/png": "[encoded data removed]",
      "text/plain": [
       "<Figure size 640x480 with 1 Axes>"
      ]
     },
     "metadata": {},
     "output_type": "display_data"
    }
   ],
   "source": [
    "sns.countplot(x='Emotion', data=train_df)"
   ]
  },
  {
   "cell_type": "markdown",
   "id": "b3625720",
   "metadata": {
    "papermill": {
     "duration": 0.034717,
     "end_time": "2022-04-07T12:01:12.407850",
     "exception": false,
     "start_time": "2022-04-07T12:01:12.373133",
     "status": "completed"
    },
    "tags": []
   },
   "source": [
    "**=> Imbalanced labels! But no class will be drop to fully analysis the sentiment**"
   ]
  },
  {
   "cell_type": "markdown",
   "id": "a8463a59",
   "metadata": {
    "papermill": {
     "duration": 0.031775,
     "end_time": "2022-04-07T12:01:12.471332",
     "exception": false,
     "start_time": "2022-04-07T12:01:12.439557",
     "status": "completed"
    },
    "tags": []
   },
   "source": [
    "## DataLoader\n",
    "\n",
    "Define a custom PyTorch Dataset class called `SentimentDataset` to prepare data for training. This class tokenizes the text using PhoBERT tokenizer, encodes tokens, and generates attention masks for variable-length sequences. Each sample in the dataset consists of tokenized text, input IDs, attention masks, and target labels.\n"
   ]
  },
  {
   "cell_type": "code",
   "execution_count": 10,
   "id": "e831b7a0",
   "metadata": {
    "papermill": {
     "duration": 5.549308,
     "end_time": "2022-04-07T12:01:18.052266",
     "exception": false,
     "start_time": "2022-04-07T12:01:12.502958",
     "status": "completed"
    },
    "tags": []
   },
   "outputs": [],
   "source": [
    "# Initialize the AutoTokenizer from Hugging Faces\n",
    "tokenizer = AutoTokenizer.from_pretrained(\"vinai/phobert-base\", use_fast=False)"
   ]
  },
  {
   "cell_type": "code",
   "execution_count": 11,
   "id": "300b9d26",
   "metadata": {
    "papermill": {
     "duration": 0.048365,
     "end_time": "2022-04-07T12:01:18.134353",
     "exception": false,
     "start_time": "2022-04-07T12:01:18.085988",
     "status": "completed"
    },
    "tags": []
   },
   "outputs": [],
   "source": [
    "class SentimentDataset(Dataset):\n",
    "    def __init__(self, df, tokenizer, max_len=120):\n",
    "        self.df = df\n",
    "        self.max_len = max_len\n",
    "        self.tokenizer = tokenizer\n",
    "    \n",
    "    def __len__(self):\n",
    "        return len(self.df)\n",
    "\n",
    "    def __getitem__(self, index):\n",
    "        \"\"\"\n",
    "        To customize dataset, inherit from Dataset class and implement\n",
    "        __len__ & __getitem__\n",
    "        __getitem__ should return \n",
    "            data:\n",
    "                input_ids\n",
    "                attention_masks\n",
    "                text\n",
    "                targets\n",
    "        \"\"\"\n",
    "        row = self.df.iloc[index]\n",
    "        text, label = self.get_input_data(row)\n",
    "\n",
    "        # Encode_plus will:\n",
    "        # (1) split text into token\n",
    "        # (2) Add the '[CLS]' and '[SEP]' token to the start and end\n",
    "        # (3) Truncate/Pad sentence to max length\n",
    "        # (4) Map token to their IDS\n",
    "        # (5) Create attention mask\n",
    "        # (6) Return a dictionary of outputs\n",
    "        encoding = self.tokenizer.encode_plus(\n",
    "            text,\n",
    "            truncation=True,\n",
    "            add_special_tokens=True,\n",
    "            max_length=self.max_len,\n",
    "            padding='max_length',\n",
    "            return_attention_mask=True,\n",
    "            return_token_type_ids=False,\n",
    "            return_tensors='pt',\n",
    "        )\n",
    "        \n",
    "        return {\n",
    "            'text': text,\n",
    "            'input_ids': encoding['input_ids'].flatten(),\n",
    "            'attention_masks': encoding['attention_mask'].flatten(),\n",
    "            'targets': torch.tensor(label, dtype=torch.long),\n",
    "        }\n",
    "\n",
    "\n",
    "    def labelencoder(self,text):\n",
    "        if text=='Enjoyment':\n",
    "            return 0\n",
    "        elif text=='Disgust':\n",
    "            return 1\n",
    "        elif text=='Sadness':\n",
    "            return 2\n",
    "        elif text=='Anger':\n",
    "            return 3\n",
    "        elif text=='Surprise':\n",
    "            return 4\n",
    "        elif text=='Fear':\n",
    "            return 5\n",
    "        else:\n",
    "            return 6\n",
    "\n",
    "    def get_input_data(self, row):\n",
    "        # Preprocessing: {remove icon, special character, lower}\n",
    "        text = row['Sentence']\n",
    "        text = ' '.join(simple_preprocess(text))\n",
    "        label = self.labelencoder(row['Emotion'])\n",
    "\n",
    "        return text, label"
   ]
  },
  {
   "cell_type": "markdown",
   "id": "2d42a252",
   "metadata": {
    "papermill": {
     "duration": 0.032658,
     "end_time": "2022-04-07T12:01:18.201336",
     "exception": false,
     "start_time": "2022-04-07T12:01:18.168678",
     "status": "completed"
    },
    "tags": []
   },
   "source": [
    "## BERT works with fixed-length sequences. Use a simple strategy to choose the max length.\n",
    "\n",
    "This part visualizes the distribution of the length of sentences in our dataset by choosing a maximum length of 50 tokens based on this distribution to ensure BERT can handle the input sequences efficiently. (overchosen will lead to overfitting)"
   ]
  },
  {
   "cell_type": "code",
   "execution_count": 12,
   "id": "83ee706e",
   "metadata": {
    "papermill": {
     "duration": 1.812072,
     "end_time": "2022-04-07T12:01:20.046732",
     "exception": false,
     "start_time": "2022-04-07T12:01:18.234660",
     "status": "completed"
    },
    "tags": []
   },
   "outputs": [
    {
     "data": {
      "text/plain": [
       "Text(0.5, 9.444444444444438, 'Token Count')"
      ]
     },
     "execution_count": 12,
     "metadata": {},
     "output_type": "execute_result"
    },
    {
     "data": {
      "image/png": "[encoded data removed]",
      "text/plain": [
       "<Figure size 500x500 with 1 Axes>"
      ]
     },
     "metadata": {},
     "output_type": "display_data"
    }
   ],
   "source": [
    "# Distribution of length of Sentence\n",
    "all_data = train_df.Sentence.tolist() + test_df.Sentence.tolist()\n",
    "all_data = [' '.join(simple_preprocess(text)) for text in all_data]\n",
    "encoded_text = [tokenizer.encode(text, add_special_tokens=True) for text in all_data]\n",
    "token_lens = [len(text) for text in encoded_text]\n",
    "sns.displot(token_lens)\n",
    "plt.xlim([0,max(token_lens)])\n",
    "plt.xlabel('Token Count')"
   ]
  },
  {
   "cell_type": "markdown",
   "id": "0adbe0ca",
   "metadata": {
    "papermill": {
     "duration": 0.033905,
     "end_time": "2022-04-07T12:01:20.116858",
     "exception": false,
     "start_time": "2022-04-07T12:01:20.082953",
     "status": "completed"
    },
    "tags": []
   },
   "source": [
    "**=> Choose a maximum of length of 50 is safe.**"
   ]
  },
  {
   "cell_type": "markdown",
   "id": "13def394",
   "metadata": {
    "papermill": {
     "duration": 0.036438,
     "end_time": "2022-04-07T12:01:20.188013",
     "exception": false,
     "start_time": "2022-04-07T12:01:20.151575",
     "status": "completed"
    },
    "tags": []
   },
   "source": [
    "## Model\n",
    "\n",
    "Define Sentiment Classifier model using PyTorch. The model utilizes PhoBERT as the backbone transformer model, with a dropout layer for regularization and a linear layer for classification. Initialization of weights and biases is performed according to recommended practices."
   ]
  },
  {
   "cell_type": "code",
   "execution_count": 13,
   "id": "fad2b4ec",
   "metadata": {
    "papermill": {
     "duration": 0.046448,
     "end_time": "2022-04-07T12:01:20.270259",
     "exception": false,
     "start_time": "2022-04-07T12:01:20.223811",
     "status": "completed"
    },
    "tags": []
   },
   "outputs": [],
   "source": [
    "class SentimentClassifier(nn.Module):\n",
    "    def __init__(self, n_classes):\n",
    "        super(SentimentClassifier, self).__init__()\n",
    "        self.bert = AutoModel.from_pretrained(\"vinai/phobert-base\")\n",
    "        \n",
    "        # Prevent overfitting with dropout probability=0.3\n",
    "        self.drop = nn.Dropout(p=0.3)\n",
    "        \n",
    "        # Fully connected linear layer that map to n_classes\n",
    "        self.fc = nn.Linear(self.bert.config.hidden_size, n_classes)\n",
    "        nn.init.normal_(self.fc.weight, std=0.02)\n",
    "        nn.init.normal_(self.fc.bias, 0)\n",
    "\n",
    "    def forward(self, input_ids, attention_mask):\n",
    "        last_hidden_state, output = self.bert(\n",
    "            input_ids=input_ids,\n",
    "            attention_mask=attention_mask,\n",
    "            return_dict=False # Dropout will errors if without this\n",
    "        )\n",
    "\n",
    "        x = self.drop(output)\n",
    "        x = self.fc(x)\n",
    "        return x"
   ]
  },
  {
   "cell_type": "markdown",
   "id": "fe356378",
   "metadata": {
    "papermill": {
     "duration": 0.035479,
     "end_time": "2022-04-07T12:01:20.341347",
     "exception": false,
     "start_time": "2022-04-07T12:01:20.305868",
     "status": "completed"
    },
    "tags": []
   },
   "source": [
    "## Train & Eval Function\n",
    "\n",
    "This section defines functions for training and evaluation of the model. The `train` function trains the model on the training data, while the `eval` function evaluates the model's performance on the validation data. Cross-entropy loss as the optimization criterion is used.\n"
   ]
  },
  {
   "cell_type": "code",
   "execution_count": 14,
   "id": "f1b2e3bd",
   "metadata": {
    "papermill": {
     "duration": 0.051507,
     "end_time": "2022-04-07T12:01:20.429838",
     "exception": false,
     "start_time": "2022-04-07T12:01:20.378331",
     "status": "completed"
    },
    "tags": []
   },
   "outputs": [],
   "source": [
    "def train(model, criterion, optimizer, train_loader):\n",
    "    model.train()\n",
    "    losses = []\n",
    "    correct = 0\n",
    "\n",
    "    for data in train_loader:\n",
    "        input_ids = data['input_ids'].to(device)\n",
    "        attention_mask = data['attention_masks'].to(device)\n",
    "        targets = data['targets'].to(device)\n",
    "\n",
    "        optimizer.zero_grad()\n",
    "        outputs = model(\n",
    "            input_ids=input_ids,\n",
    "            attention_mask=attention_mask\n",
    "        )\n",
    "\n",
    "        loss = criterion(outputs, targets)\n",
    "        _, pred = torch.max(outputs, dim=1)\n",
    "\n",
    "        correct += torch.sum(pred == targets)\n",
    "        losses.append(loss.item())\n",
    "        loss.backward()\n",
    "        nn.utils.clip_grad_norm_(model.parameters(), max_norm=1.0)\n",
    "        optimizer.step()\n",
    "        lr_scheduler.step()\n",
    "\n",
    "    print(f'Train Accuracy: {correct.double()/len(train_loader.dataset)} Loss: {np.mean(losses)}')\n",
    "\n",
    "def eval(test_data = False):\n",
    "    model.eval()\n",
    "    losses = []\n",
    "    correct = 0\n",
    "\n",
    "    with torch.no_grad():\n",
    "        data_loader = test_loader if test_data else valid_loader\n",
    "        for data in data_loader:\n",
    "            input_ids = data['input_ids'].to(device)\n",
    "            attention_mask = data['attention_masks'].to(device)\n",
    "            targets = data['targets'].to(device)\n",
    "\n",
    "            outputs = model(\n",
    "                input_ids=input_ids,\n",
    "                attention_mask=attention_mask\n",
    "            )\n",
    "\n",
    "            _, pred = torch.max(outputs, dim=1)\n",
    "\n",
    "            loss = criterion(outputs, targets)\n",
    "            correct += torch.sum(pred == targets)\n",
    "            losses.append(loss.item())\n",
    "    \n",
    "    if test_data:\n",
    "        print(f'Test Accuracy: {correct.double()/len(test_loader.dataset)} Loss: {np.mean(losses)}')\n",
    "        return correct.double()/len(test_loader.dataset)\n",
    "    else:\n",
    "        print(f'Valid Accuracy: {correct.double()/len(valid_loader.dataset)} Loss: {np.mean(losses)}')\n",
    "        return correct.double()/len(valid_loader.dataset)\n"
   ]
  },
  {
   "cell_type": "markdown",
   "id": "0bb8304d",
   "metadata": {
    "papermill": {
     "duration": 0.035849,
     "end_time": "2022-04-07T12:01:20.501513",
     "exception": false,
     "start_time": "2022-04-07T12:01:20.465664",
     "status": "completed"
    },
    "tags": []
   },
   "source": [
    "## Training with K-Fold\n",
    "\n",
    "This part implements training using k-fold cross-validation. For each fold, the dataset is split into training and validation sets, and the model is trained and evaluated. Adam optimizer with a linear learning rate scheduler for optimization is used.\n"
   ]
  },
  {
   "cell_type": "code",
   "execution_count": 15,
   "id": "8fcaf329",
   "metadata": {
    "papermill": {
     "duration": 0.044677,
     "end_time": "2022-04-07T12:01:20.582467",
     "exception": false,
     "start_time": "2022-04-07T12:01:20.537790",
     "status": "completed"
    },
    "tags": []
   },
   "outputs": [],
   "source": [
    "def prepare_loaders(df, fold):\n",
    "    df_train = df[df.kfold != fold].reset_index(drop=True)\n",
    "    df_valid = df[df.kfold == fold].reset_index(drop=True)\n",
    "    \n",
    "    train_dataset = SentimentDataset(df_train, tokenizer, max_len=120)\n",
    "    valid_dataset = SentimentDataset(df_valid, tokenizer, max_len=120)\n",
    "    \n",
    "    train_loader = DataLoader(train_dataset, batch_size=16, shuffle=True)\n",
    "    valid_loader = DataLoader(valid_dataset, batch_size=16, shuffle=True)\n",
    "    \n",
    "    return train_loader, valid_loader"
   ]
  },
  {
   "cell_type": "code",
   "execution_count": 16,
   "id": "d5c5e6f3",
   "metadata": {
    "papermill": {
     "duration": 2232.202695,
     "end_time": "2022-04-07T12:38:32.821344",
     "exception": false,
     "start_time": "2022-04-07T12:01:20.618649",
     "status": "completed"
    },
    "tags": []
   },
   "outputs": [
    {
     "name": "stdout",
     "output_type": "stream",
     "text": [
      "-----------Fold: 1 ------------------\n",
      "Epoch 1/6\n",
      "------------------------------\n",
      "Train Accuracy: 0.38419891718468013 Loss: 1.6519705685667503\n",
      "Valid Accuracy: 0.5252606255012029 Loss: 1.3389228605307066\n",
      "Epoch 2/6\n",
      "------------------------------\n",
      "Train Accuracy: 0.5570483256466814 Loss: 1.256864852248094\n",
      "Valid Accuracy: 0.5757818765036087 Loss: 1.1847159090714576\n",
      "Epoch 3/6\n",
      "------------------------------\n",
      "Train Accuracy: 0.652295969520754 Loss: 1.0163829069680128\n",
      "Valid Accuracy: 0.5894145950280674 Loss: 1.1515581814142375\n",
      "Epoch 4/6\n",
      "------------------------------\n",
      "Train Accuracy: 0.7130539402446361 Loss: 0.8441015903193217\n",
      "Valid Accuracy: 0.5942261427425822 Loss: 1.2237771722750785\n",
      "Epoch 5/6\n",
      "------------------------------\n",
      "Train Accuracy: 0.7675957489472629 Loss: 0.7049607330789933\n",
      "Valid Accuracy: 0.6150761828388132 Loss: 1.1808195538245714\n",
      "Epoch 6/6\n",
      "------------------------------\n",
      "Train Accuracy: 0.7998796871866853 Loss: 0.6184582800055162\n",
      "Valid Accuracy: 0.6190858059342421 Loss: 1.19547501206398\n",
      "-----------Fold: 2 ------------------\n",
      "Epoch 1/6\n",
      "------------------------------\n",
      "Train Accuracy: 0.3878083015841187 Loss: 1.6056370066526608\n",
      "Valid Accuracy: 0.5324779470729751 Loss: 1.310081469707\n",
      "Epoch 2/6\n",
      "------------------------------\n",
      "Train Accuracy: 0.5758973330659715 Loss: 1.2045659782030644\n",
      "Valid Accuracy: 0.5918203688853247 Loss: 1.154177379913819\n",
      "Epoch 3/6\n",
      "------------------------------\n",
      "Train Accuracy: 0.6757569681171045 Loss: 0.9560548474009221\n",
      "Valid Accuracy: 0.6134723336006416 Loss: 1.1190303953794332\n",
      "Epoch 4/6\n",
      "------------------------------\n",
      "Train Accuracy: 0.7419290154401443 Loss: 0.7777001718297983\n",
      "Valid Accuracy: 0.6166800320769847 Loss: 1.1525466866218126\n",
      "Epoch 5/6\n",
      "------------------------------\n",
      "Train Accuracy: 0.7860437136555043 Loss: 0.6582238791653743\n",
      "Valid Accuracy: 0.6214915797914996 Loss: 1.1665009695750017\n",
      "Epoch 6/6\n",
      "------------------------------\n",
      "Train Accuracy: 0.8233406857830359 Loss: 0.5729076258169535\n",
      "Valid Accuracy: 0.6166800320769847 Loss: 1.1868470318806477\n",
      "-----------Fold: 3 ------------------\n",
      "Epoch 1/6\n",
      "------------------------------\n",
      "Train Accuracy: 0.374172849408462 Loss: 1.6295401780651166\n",
      "Valid Accuracy: 0.5172413793103449 Loss: 1.3760861578660133\n",
      "Epoch 2/6\n",
      "------------------------------\n",
      "Train Accuracy: 0.5516342490475236 Loss: 1.2538304063372123\n",
      "Valid Accuracy: 0.5557337610264635 Loss: 1.2247263689835866\n",
      "Epoch 3/6\n",
      "------------------------------\n",
      "Train Accuracy: 0.6452777220774012 Loss: 1.019046041636895\n",
      "Valid Accuracy: 0.5846030473135525 Loss: 1.1493032987301166\n",
      "Epoch 4/6\n",
      "------------------------------\n",
      "Train Accuracy: 0.7198716663324644 Loss: 0.8364216589774841\n",
      "Valid Accuracy: 0.6022453889334403 Loss: 1.1771299197123601\n",
      "Epoch 5/6\n",
      "------------------------------\n",
      "Train Accuracy: 0.7657910567475436 Loss: 0.7199107189782155\n",
      "Valid Accuracy: 0.6094627105052125 Loss: 1.1466064835206056\n",
      "Epoch 6/6\n",
      "------------------------------\n",
      "Train Accuracy: 0.7988770804090636 Loss: 0.6336622609255406\n",
      "Valid Accuracy: 0.6118684843624699 Loss: 1.1703874529936376\n",
      "-----------Fold: 4 ------------------\n",
      "Epoch 1/6\n",
      "------------------------------\n",
      "Train Accuracy: 0.40004010427110487 Loss: 1.5759236378929553\n",
      "Valid Accuracy: 0.5445068163592622 Loss: 1.267177830903958\n",
      "Epoch 2/6\n",
      "------------------------------\n",
      "Train Accuracy: 0.5835171445758973 Loss: 1.1850524716652358\n",
      "Valid Accuracy: 0.6022453889334403 Loss: 1.1259954556440697\n",
      "Epoch 3/6\n",
      "------------------------------\n",
      "Train Accuracy: 0.6789653098054943 Loss: 0.9425678951426958\n",
      "Valid Accuracy: 0.6174819566960705 Loss: 1.1156748070930824\n",
      "Epoch 4/6\n",
      "------------------------------\n",
      "Train Accuracy: 0.7441347503509124 Loss: 0.7623243242120131\n",
      "Valid Accuracy: 0.6182838813151563 Loss: 1.1519870097056413\n",
      "Epoch 5/6\n",
      "------------------------------\n",
      "Train Accuracy: 0.7998796871866853 Loss: 0.6317302361608316\n",
      "Valid Accuracy: 0.6150761828388132 Loss: 1.1593998685861244\n",
      "Epoch 6/6\n",
      "------------------------------\n",
      "Train Accuracy: 0.8265490274714257 Loss: 0.5511794069256538\n",
      "Valid Accuracy: 0.615878107457899 Loss: 1.1880099731378067\n",
      "-----------Fold: 5 ------------------\n",
      "Epoch 1/6\n",
      "------------------------------\n",
      "Train Accuracy: 0.42582197273456296 Loss: 1.5448567821429326\n",
      "Valid Accuracy: 0.5337078651685393 Loss: 1.3228489802433894\n",
      "Epoch 2/6\n",
      "------------------------------\n",
      "Train Accuracy: 0.5952285485164395 Loss: 1.1602194129656522\n",
      "Valid Accuracy: 0.5762439807383628 Loss: 1.1976938438721192\n",
      "Epoch 3/6\n",
      "------------------------------\n",
      "Train Accuracy: 0.6718123496391339 Loss: 0.947708896241891\n",
      "Valid Accuracy: 0.5914927768860353 Loss: 1.1829377359304674\n",
      "Epoch 4/6\n",
      "------------------------------\n",
      "Train Accuracy: 0.7475942261427426 Loss: 0.765377235574982\n",
      "Valid Accuracy: 0.6043338683788122 Loss: 1.186153470323636\n",
      "Epoch 5/6\n",
      "------------------------------\n",
      "Train Accuracy: 0.7927024859663192 Loss: 0.6443438459283266\n",
      "Valid Accuracy: 0.6027287319422151 Loss: 1.212382008632024\n",
      "Epoch 6/6\n",
      "------------------------------\n",
      "Train Accuracy: 0.8297914995990376 Loss: 0.5551406883467467\n",
      "Valid Accuracy: 0.5987158908507223 Loss: 1.2499975357682278\n"
     ]
    }
   ],
   "source": [
    "for fold in range(skf.n_splits):\n",
    "    print(f'-----------Fold: {fold+1} ------------------')\n",
    "    train_loader, valid_loader = prepare_loaders(train_df, fold=fold)\n",
    "    model = SentimentClassifier(n_classes=7).to(device)\n",
    "    criterion = nn.CrossEntropyLoss()\n",
    "    \n",
    "    \n",
    "    # Recommendation by BERT: lr: 5e-5, 2e-5, 3e-5\n",
    "    # Batchsize: 16, 32\n",
    "    optimizer = AdamW(model.parameters(), lr=2e-5)\n",
    "    \n",
    "    lr_scheduler = get_linear_schedule_with_warmup(\n",
    "                optimizer, \n",
    "                num_warmup_steps=0, \n",
    "                num_training_steps=len(train_loader)*EPOCHS\n",
    "            )\n",
    "    best_acc = 0\n",
    "    for epoch in range(EPOCHS):\n",
    "        print(f'Epoch {epoch+1}/{EPOCHS}')\n",
    "        print('-'*30)\n",
    "\n",
    "        train(model, criterion, optimizer, train_loader)\n",
    "        val_acc = eval()\n",
    "\n",
    "        if val_acc > best_acc:\n",
    "            torch.save(model.state_dict(), f'phobert_fold{fold+1}.pth')\n",
    "            best_acc = val_acc"
   ]
  },
  {
   "cell_type": "markdown",
   "id": "f7283412",
   "metadata": {},
   "source": [
    "## Test\n",
    "\n",
    "In this section, define a function to test the trained model on the test dataset. The function loads saved models from each fold, aggregates predictions, and calculates performance metrics such as accuracy and F1-score using classification report and confusion matrix."
   ]
  },
  {
   "cell_type": "code",
   "execution_count": 17,
   "id": "fe5f66d4",
   "metadata": {
    "papermill": {
     "duration": 0.076259,
     "end_time": "2022-04-07T12:38:32.985012",
     "exception": false,
     "start_time": "2022-04-07T12:38:32.908753",
     "status": "completed"
    },
    "tags": []
   },
   "outputs": [],
   "source": [
    "def test(data_loader):\n",
    "    models = []\n",
    "    for fold in range(skf.n_splits):\n",
    "        model = SentimentClassifier(n_classes=7)\n",
    "        model.to(device)\n",
    "        model.load_state_dict(torch.load(f'phobert_fold{fold+1}.pth'))\n",
    "        model.eval()\n",
    "        models.append(model)\n",
    "\n",
    "    texts = []\n",
    "    predicts = []\n",
    "    predict_probs = []\n",
    "    real_values = []\n",
    "\n",
    "    for data in data_loader:\n",
    "        text = data['text']\n",
    "        input_ids = data['input_ids'].to(device)\n",
    "        attention_mask = data['attention_masks'].to(device)\n",
    "        targets = data['targets'].to(device)\n",
    "\n",
    "        total_outs = []\n",
    "        for model in models:\n",
    "            with torch.no_grad():\n",
    "                outputs = model(\n",
    "                    input_ids=input_ids,\n",
    "                    attention_mask=attention_mask\n",
    "                )\n",
    "                total_outs.append(outputs)\n",
    "        \n",
    "        total_outs = torch.stack(total_outs)\n",
    "        _, pred = torch.max(total_outs.mean(0), dim=1)\n",
    "        texts.extend(text)\n",
    "        predicts.extend(pred)\n",
    "        predict_probs.extend(total_outs.mean(0))\n",
    "        real_values.extend(targets)\n",
    "    \n",
    "    predicts = torch.stack(predicts).cpu()\n",
    "    predict_probs = torch.stack(predict_probs).cpu()\n",
    "    real_values = torch.stack(real_values).cpu()\n",
    "    print(classification_report(real_values, predicts))\n",
    "    return real_values, predicts"
   ]
  },
  {
   "cell_type": "code",
   "execution_count": 18,
   "id": "ca5e4bab",
   "metadata": {
    "papermill": {
     "duration": 23.459106,
     "end_time": "2022-04-07T12:38:56.508792",
     "exception": false,
     "start_time": "2022-04-07T12:38:33.049686",
     "status": "completed"
    },
    "tags": []
   },
   "outputs": [
    {
     "name": "stdout",
     "output_type": "stream",
     "text": [
      "              precision    recall  f1-score   support\n",
      "\n",
      "           0       0.67      0.69      0.68       193\n",
      "           1       0.59      0.59      0.59       132\n",
      "           2       0.63      0.66      0.64       116\n",
      "           3       0.43      0.33      0.37        40\n",
      "           4       0.65      0.41      0.50        37\n",
      "           5       0.68      0.70      0.69        46\n",
      "           6       0.52      0.57      0.54       129\n",
      "\n",
      "    accuracy                           0.61       693\n",
      "   macro avg       0.60      0.56      0.57       693\n",
      "weighted avg       0.61      0.61      0.60       693\n",
      "\n"
     ]
    }
   ],
   "source": [
    "test_dataset = SentimentDataset(test_df, tokenizer, max_len=50)\n",
    "test_loader = DataLoader(test_dataset, batch_size=16, shuffle=True)\n",
    "real_values, predicts = test(test_loader)"
   ]
  },
  {
   "cell_type": "markdown",
   "id": "3455e0bf",
   "metadata": {},
   "source": [
    "**=> F1-score reach 61% (acceptable base on dataset best F1-score performance ~57.61%)**"
   ]
  },
  {
   "cell_type": "markdown",
   "id": "faf24c88",
   "metadata": {
    "papermill": {
     "duration": 0.06195,
     "end_time": "2022-04-07T12:38:56.633861",
     "exception": false,
     "start_time": "2022-04-07T12:38:56.571911",
     "status": "completed"
    },
    "tags": []
   },
   "source": [
    "## Heatmap between Predict and Ground Truth\n",
    "\n",
    "This part visualizes the confusion matrix between predicted and ground truth labels to understand the model's performance \n",
    "across different classes.\n"
   ]
  },
  {
   "cell_type": "code",
   "execution_count": 19,
   "id": "fa198539",
   "metadata": {
    "papermill": {
     "duration": 0.383416,
     "end_time": "2022-04-07T12:38:57.079454",
     "exception": false,
     "start_time": "2022-04-07T12:38:56.696038",
     "status": "completed"
    },
    "tags": []
   },
   "outputs": [
    {
     "data": {
      "text/plain": [
       "<Axes: >"
      ]
     },
     "execution_count": 19,
     "metadata": {},
     "output_type": "execute_result"
    },
    {
     "data": {
      "image/png": "[encoded data removed]",
      "text/plain": [
       "<Figure size 640x480 with 2 Axes>"
      ]
     },
     "metadata": {},
     "output_type": "display_data"
    }
   ],
   "source": [
    "class_names = ['Enjoyment', 'Disgust', 'Sadness', 'Anger', 'Surprise', 'Fear', 'Other']\n",
    "sns.heatmap(confusion_matrix(real_values, predicts), annot=False, xticklabels = class_names, yticklabels = class_names)"
   ]
  },
  {
   "cell_type": "markdown",
   "id": "14521be9",
   "metadata": {
    "papermill": {
     "duration": 0.063017,
     "end_time": "2022-04-07T12:38:57.206656",
     "exception": false,
     "start_time": "2022-04-07T12:38:57.143639",
     "status": "completed"
    },
    "tags": []
   },
   "source": [
    "**=> Label Fear is the most unrelated to others -> Distinguished from others -> Highest F1-Score**"
   ]
  },
  {
   "cell_type": "markdown",
   "id": "87dfafa9",
   "metadata": {
    "papermill": {
     "duration": 0.063129,
     "end_time": "2022-04-07T12:38:57.333864",
     "exception": false,
     "start_time": "2022-04-07T12:38:57.270735",
     "status": "completed"
    },
    "tags": []
   },
   "source": [
    "## Visualize Wrong Predicted Label\n",
    "\n",
    "Extract and display some examples where the model's predictions do not match the ground truth labels. This helps in understanding potential areas of improvement for the model."
   ]
  },
  {
   "cell_type": "code",
   "execution_count": 20,
   "id": "d916e0d8",
   "metadata": {
    "papermill": {
     "duration": 0.161354,
     "end_time": "2022-04-07T12:38:57.558461",
     "exception": false,
     "start_time": "2022-04-07T12:38:57.397107",
     "status": "completed"
    },
    "tags": []
   },
   "outputs": [
    {
     "name": "stdout",
     "output_type": "stream",
     "text": [
      "--------------------------------------------------\n",
      "kinh vãi 😡\n",
      "Predicted: (Anger) --vs-- Real label: (Fear)\n",
      "--------------------------------------------------\n",
      "bắt cóc bỏ đĩa . quanh đi quẩn lại chỉ khổ dân đen thôi !\n",
      "Predicted: (Disgust) --vs-- Real label: (Enjoyment)\n",
      "--------------------------------------------------\n",
      "mấy ai được như vậy ??\n",
      "Predicted: (Enjoyment) --vs-- Real label: (Disgust)\n",
      "--------------------------------------------------\n",
      "ổng quay thiệt mà sao chửi ổng thế . không quay sao máy bạn xem được đó :))\n",
      "Predicted: (Enjoyment) --vs-- Real label: (Other)\n",
      "--------------------------------------------------\n",
      "nghe ngọt thế :((\n",
      "Predicted: (Enjoyment) --vs-- Real label: (Disgust)\n",
      "--------------------------------------------------\n",
      "sao lại cứ phải thế nhỉ\n",
      "Predicted: (Other) --vs-- Real label: (Enjoyment)\n",
      "--------------------------------------------------\n",
      "hậu duệ mặt trời đấy chứ đùa đâu nhá 😗😗\n",
      "Predicted: (Enjoyment) --vs-- Real label: (Other)\n",
      "--------------------------------------------------\n",
      "tôi ở phú yên và anh này nói rất chuẩn < 3\n",
      "Predicted: (Other) --vs-- Real label: (Surprise)\n",
      "--------------------------------------------------\n",
      "đứa nào bị táo bón thâm niên cứ ra cầu này mà nhảy đảm bảo hiệu quả ngay lần đầu trải nghiệm 🤣🤣🤣\n",
      "Predicted: (Sadness) --vs-- Real label: (Fear)\n",
      "--------------------------------------------------\n",
      "per tiến cử bản thân nào\n",
      "Predicted: (Enjoyment) --vs-- Real label: (Other)\n",
      "--------------------------------------------------\n",
      "kêu gọi thì lói thế thôi chứ dân nó vẫn dùng apple như thường\n",
      "Predicted: (Enjoyment) --vs-- Real label: (Sadness)\n",
      "--------------------------------------------------\n",
      "tao đéo ngờ được đây là trường tao :))))\n",
      "Predicted: (Anger) --vs-- Real label: (Other)\n",
      "--------------------------------------------------\n",
      ":))) ra thấy nó xấu chó thì lại về chặn số à\n",
      "Predicted: (Sadness) --vs-- Real label: (Enjoyment)\n",
      "--------------------------------------------------\n",
      "này là xạo chó chứ nguyên giá gì . kinh doanh là phải lừa lọc ... lừa giỏi diễn đạt thì giàu\n",
      "Predicted: (Enjoyment) --vs-- Real label: (Other)\n",
      "--------------------------------------------------\n",
      "ý thức con ruồi là chủ yếu .. thì ngập rác là chuyện đương nhiên .\n",
      "Predicted: (Sadness) --vs-- Real label: (Other)\n"
     ]
    }
   ],
   "source": [
    "def check_wrong(real_values, predicts):\n",
    "    wrong_arr = []\n",
    "    wrong_label = []\n",
    "    for i in range(len(predicts)):\n",
    "        if predicts[i] != real_values[i]:\n",
    "            wrong_arr.append(i)\n",
    "            wrong_label.append(predicts[i])\n",
    "    return wrong_arr, wrong_label\n",
    "\n",
    "for i in range(15):\n",
    "    print('-'*50)\n",
    "    wrong_arr, wrong_label = check_wrong(real_values, predicts)\n",
    "    print(test_df.iloc[wrong_arr[i]].Sentence)\n",
    "    print(f'Predicted: ({class_names[wrong_label[i]]}) --vs-- Real label: ({class_names[real_values[wrong_arr[i]]]})')"
   ]
  },
  {
   "cell_type": "markdown",
   "id": "655aa9dd",
   "metadata": {
    "papermill": {
     "duration": 0.063315,
     "end_time": "2022-04-07T12:38:57.685527",
     "exception": false,
     "start_time": "2022-04-07T12:38:57.622212",
     "status": "completed"
    },
    "tags": []
   },
   "source": [
    "## Inference\n",
    "\n",
    "Finally, define a function to perform inference on new text inputs using the trained model. The function tokenizes the input text, feeds it to the model, and predicts the sentiment label.\n"
   ]
  },
  {
   "cell_type": "code",
   "execution_count": 21,
   "id": "daae6130",
   "metadata": {
    "papermill": {
     "duration": 0.072252,
     "end_time": "2022-04-07T12:38:57.821229",
     "exception": false,
     "start_time": "2022-04-07T12:38:57.748977",
     "status": "completed"
    },
    "tags": []
   },
   "outputs": [],
   "source": [
    "def infer(text, tokenizer, max_len=120):\n",
    "    encoded_review = tokenizer.encode_plus(\n",
    "        text,\n",
    "        max_length=max_len,\n",
    "        truncation=True,\n",
    "        add_special_tokens=True,\n",
    "        padding='max_length',\n",
    "        return_attention_mask=True,\n",
    "        return_token_type_ids=False,\n",
    "        return_tensors='pt',\n",
    "    )\n",
    "\n",
    "    input_ids = encoded_review['input_ids'].to(device)\n",
    "    attention_mask = encoded_review['attention_mask'].to(device)\n",
    "\n",
    "    output = model(input_ids, attention_mask)\n",
    "    _, y_pred = torch.max(output, dim=1)\n",
    "\n",
    "    print(f'Text: {text}')\n",
    "    print(f'Sentiment: {class_names[y_pred]}')"
   ]
  },
  {
   "cell_type": "code",
   "execution_count": 33,
   "id": "2d7d0e55",
   "metadata": {
    "papermill": {
     "duration": 0.097374,
     "end_time": "2022-04-07T12:38:57.982232",
     "exception": false,
     "start_time": "2022-04-07T12:38:57.884858",
     "status": "completed"
    },
    "tags": []
   },
   "outputs": [
    {
     "name": "stdout",
     "output_type": "stream",
     "text": [
      "Text: Khánh đẹp trai quá\n",
      "Sentiment: Enjoyment\n"
     ]
    }
   ],
   "source": [
    "infer('Khánh đẹp trai quá', tokenizer)"
   ]
  }
 ],
 "metadata": {
  "kernelspec": {
   "display_name": "Python 3 (ipykernel)",
   "language": "python",
   "name": "python3"
  },
  "language_info": {
   "codemirror_mode": {
    "name": "ipython",
    "version": 3
   },
   "file_extension": ".py",
   "mimetype": "text/x-python",
   "name": "python",
   "nbconvert_exporter": "python",
   "pygments_lexer": "ipython3",
   "version": "3.9.18"
  },
  "papermill": {
   "default_parameters": {},
   "duration": 2296.35678,
   "end_time": "2022-04-07T12:39:01.145384",
   "environment_variables": {},
   "exception": null,
   "input_path": "__notebook__.ipynb",
   "output_path": "__notebook__.ipynb",
   "parameters": {},
   "start_time": "2022-04-07T12:00:44.788604",
   "version": "2.3.3"
  },
  "widgets": {
   "application/vnd.jupyter.widget-state+json": {
    "state": {
     "0318ac371aa14baf97a6eeaaaaf6f103": {
      "model_module": "@jupyter-widgets/controls",
      "model_module_version": "1.5.0",
      "model_name": "HTMLModel",
      "state": {
       "_dom_classes": [],
       "_model_module": "@jupyter-widgets/controls",
       "_model_module_version": "1.5.0",
       "_model_name": "HTMLModel",
       "_view_count": null,
       "_view_module": "@jupyter-widgets/controls",
       "_view_module_version": "1.5.0",
       "_view_name": "HTMLView",
       "description": "",
       "description_tooltip": null,
       "layout": "IPY_MODEL_55542c07a06f4e49b2c2b7f6cd731399",
       "placeholder": "​",
       "style": "IPY_MODEL_b4ab36ec62144cbdb6e0d4afcbce8f95",
       "value": " 1.08M/1.08M [00:00&lt;00:00, 2.99MB/s]"
      }
     },
     "04ce5fd00f8e4697bdb0010bad9d062c": {
      "model_module": "@jupyter-widgets/base",
      "model_module_version": "1.2.0",
      "model_name": "LayoutModel",
      "state": {
       "_model_module": "@jupyter-widgets/base",
       "_model_module_version": "1.2.0",
       "_model_name": "LayoutModel",
       "_view_count": null,
       "_view_module": "@jupyter-widgets/base",
       "_view_module_version": "1.2.0",
       "_view_name": "LayoutView",
       "align_content": null,
       "align_items": null,
       "align_self": null,
       "border": null,
       "bottom": null,
       "display": null,
       "flex": null,
       "flex_flow": null,
       "grid_area": null,
       "grid_auto_columns": null,
       "grid_auto_flow": null,
       "grid_auto_rows": null,
       "grid_column": null,
       "grid_gap": null,
       "grid_row": null,
       "grid_template_areas": null,
       "grid_template_columns": null,
       "grid_template_rows": null,
       "height": null,
       "justify_content": null,
       "justify_items": null,
       "left": null,
       "margin": null,
       "max_height": null,
       "max_width": null,
       "min_height": null,
       "min_width": null,
       "object_fit": null,
       "object_position": null,
       "order": null,
       "overflow": null,
       "overflow_x": null,
       "overflow_y": null,
       "padding": null,
       "right": null,
       "top": null,
       "visibility": null,
       "width": null
      }
     },
     "04e9257ab2574bd5903908f14f94a9e3": {
      "model_module": "@jupyter-widgets/base",
      "model_module_version": "1.2.0",
      "model_name": "LayoutModel",
      "state": {
       "_model_module": "@jupyter-widgets/base",
       "_model_module_version": "1.2.0",
       "_model_name": "LayoutModel",
       "_view_count": null,
       "_view_module": "@jupyter-widgets/base",
       "_view_module_version": "1.2.0",
       "_view_name": "LayoutView",
       "align_content": null,
       "align_items": null,
       "align_self": null,
       "border": null,
       "bottom": null,
       "display": null,
       "flex": null,
       "flex_flow": null,
       "grid_area": null,
       "grid_auto_columns": null,
       "grid_auto_flow": null,
       "grid_auto_rows": null,
       "grid_column": null,
       "grid_gap": null,
       "grid_row": null,
       "grid_template_areas": null,
       "grid_template_columns": null,
       "grid_template_rows": null,
       "height": null,
       "justify_content": null,
       "justify_items": null,
       "left": null,
       "margin": null,
       "max_height": null,
       "max_width": null,
       "min_height": null,
       "min_width": null,
       "object_fit": null,
       "object_position": null,
       "order": null,
       "overflow": null,
       "overflow_x": null,
       "overflow_y": null,
       "padding": null,
       "right": null,
       "top": null,
       "visibility": null,
       "width": null
      }
     },
     "064ec52711b744f59d4acdc33eea140c": {
      "model_module": "@jupyter-widgets/controls",
      "model_module_version": "1.5.0",
      "model_name": "FloatProgressModel",
      "state": {
       "_dom_classes": [],
       "_model_module": "@jupyter-widgets/controls",
       "_model_module_version": "1.5.0",
       "_model_name": "FloatProgressModel",
       "_view_count": null,
       "_view_module": "@jupyter-widgets/controls",
       "_view_module_version": "1.5.0",
       "_view_name": "ProgressView",
       "bar_style": "success",
       "description": "",
       "description_tooltip": null,
       "layout": "IPY_MODEL_a8446a3a7bd349d8b5dfd039be6cce06",
       "max": 542923308,
       "min": 0,
       "orientation": "horizontal",
       "style": "IPY_MODEL_28578c06b2d7439bbd580efc9baa4c27",
       "value": 542923308
      }
     },
     "0975838416ba425981f7f407ee0f3c17": {
      "model_module": "@jupyter-widgets/controls",
      "model_module_version": "1.5.0",
      "model_name": "HTMLModel",
      "state": {
       "_dom_classes": [],
       "_model_module": "@jupyter-widgets/controls",
       "_model_module_version": "1.5.0",
       "_model_name": "HTMLModel",
       "_view_count": null,
       "_view_module": "@jupyter-widgets/controls",
       "_view_module_version": "1.5.0",
       "_view_name": "HTMLView",
       "description": "",
       "description_tooltip": null,
       "layout": "IPY_MODEL_8d0ea3357ed14ddaaf2e59a733eac063",
       "placeholder": "​",
       "style": "IPY_MODEL_68d0c8b590914256a749f61bff24cc98",
       "value": "Downloading: 100%"
      }
     },
     "0bb4c3917b6c4d05b8dbf42b8ccfc432": {
      "model_module": "@jupyter-widgets/controls",
      "model_module_version": "1.5.0",
      "model_name": "DescriptionStyleModel",
      "state": {
       "_model_module": "@jupyter-widgets/controls",
       "_model_module_version": "1.5.0",
       "_model_name": "DescriptionStyleModel",
       "_view_count": null,
       "_view_module": "@jupyter-widgets/base",
       "_view_module_version": "1.2.0",
       "_view_name": "StyleView",
       "description_width": ""
      }
     },
     "1e7a682c734545f2a3c64d81d002061b": {
      "model_module": "@jupyter-widgets/base",
      "model_module_version": "1.2.0",
      "model_name": "LayoutModel",
      "state": {
       "_model_module": "@jupyter-widgets/base",
       "_model_module_version": "1.2.0",
       "_model_name": "LayoutModel",
       "_view_count": null,
       "_view_module": "@jupyter-widgets/base",
       "_view_module_version": "1.2.0",
       "_view_name": "LayoutView",
       "align_content": null,
       "align_items": null,
       "align_self": null,
       "border": null,
       "bottom": null,
       "display": null,
       "flex": null,
       "flex_flow": null,
       "grid_area": null,
       "grid_auto_columns": null,
       "grid_auto_flow": null,
       "grid_auto_rows": null,
       "grid_column": null,
       "grid_gap": null,
       "grid_row": null,
       "grid_template_areas": null,
       "grid_template_columns": null,
       "grid_template_rows": null,
       "height": null,
       "justify_content": null,
       "justify_items": null,
       "left": null,
       "margin": null,
       "max_height": null,
       "max_width": null,
       "min_height": null,
       "min_width": null,
       "object_fit": null,
       "object_position": null,
       "order": null,
       "overflow": null,
       "overflow_x": null,
       "overflow_y": null,
       "padding": null,
       "right": null,
       "top": null,
       "visibility": null,
       "width": null
      }
     },
     "1f1abc38456e43118900f59027014c71": {
      "model_module": "@jupyter-widgets/base",
      "model_module_version": "1.2.0",
      "model_name": "LayoutModel",
      "state": {
       "_model_module": "@jupyter-widgets/base",
       "_model_module_version": "1.2.0",
       "_model_name": "LayoutModel",
       "_view_count": null,
       "_view_module": "@jupyter-widgets/base",
       "_view_module_version": "1.2.0",
       "_view_name": "LayoutView",
       "align_content": null,
       "align_items": null,
       "align_self": null,
       "border": null,
       "bottom": null,
       "display": null,
       "flex": null,
       "flex_flow": null,
       "grid_area": null,
       "grid_auto_columns": null,
       "grid_auto_flow": null,
       "grid_auto_rows": null,
       "grid_column": null,
       "grid_gap": null,
       "grid_row": null,
       "grid_template_areas": null,
       "grid_template_columns": null,
       "grid_template_rows": null,
       "height": null,
       "justify_content": null,
       "justify_items": null,
       "left": null,
       "margin": null,
       "max_height": null,
       "max_width": null,
       "min_height": null,
       "min_width": null,
       "object_fit": null,
       "object_position": null,
       "order": null,
       "overflow": null,
       "overflow_x": null,
       "overflow_y": null,
       "padding": null,
       "right": null,
       "top": null,
       "visibility": null,
       "width": null
      }
     },
     "28578c06b2d7439bbd580efc9baa4c27": {
      "model_module": "@jupyter-widgets/controls",
      "model_module_version": "1.5.0",
      "model_name": "ProgressStyleModel",
      "state": {
       "_model_module": "@jupyter-widgets/controls",
       "_model_module_version": "1.5.0",
       "_model_name": "ProgressStyleModel",
       "_view_count": null,
       "_view_module": "@jupyter-widgets/base",
       "_view_module_version": "1.2.0",
       "_view_name": "StyleView",
       "bar_color": null,
       "description_width": ""
      }
     },
     "29156c3a68a14cd68ca1cd2beb5d61cb": {
      "model_module": "@jupyter-widgets/base",
      "model_module_version": "1.2.0",
      "model_name": "LayoutModel",
      "state": {
       "_model_module": "@jupyter-widgets/base",
       "_model_module_version": "1.2.0",
       "_model_name": "LayoutModel",
       "_view_count": null,
       "_view_module": "@jupyter-widgets/base",
       "_view_module_version": "1.2.0",
       "_view_name": "LayoutView",
       "align_content": null,
       "align_items": null,
       "align_self": null,
       "border": null,
       "bottom": null,
       "display": null,
       "flex": null,
       "flex_flow": null,
       "grid_area": null,
       "grid_auto_columns": null,
       "grid_auto_flow": null,
       "grid_auto_rows": null,
       "grid_column": null,
       "grid_gap": null,
       "grid_row": null,
       "grid_template_areas": null,
       "grid_template_columns": null,
       "grid_template_rows": null,
       "height": null,
       "justify_content": null,
       "justify_items": null,
       "left": null,
       "margin": null,
       "max_height": null,
       "max_width": null,
       "min_height": null,
       "min_width": null,
       "object_fit": null,
       "object_position": null,
       "order": null,
       "overflow": null,
       "overflow_x": null,
       "overflow_y": null,
       "padding": null,
       "right": null,
       "top": null,
       "visibility": null,
       "width": null
      }
     },
     "305086a2b2984235b8506dbe3dfab422": {
      "model_module": "@jupyter-widgets/base",
      "model_module_version": "1.2.0",
      "model_name": "LayoutModel",
      "state": {
       "_model_module": "@jupyter-widgets/base",
       "_model_module_version": "1.2.0",
       "_model_name": "LayoutModel",
       "_view_count": null,
       "_view_module": "@jupyter-widgets/base",
       "_view_module_version": "1.2.0",
       "_view_name": "LayoutView",
       "align_content": null,
       "align_items": null,
       "align_self": null,
       "border": null,
       "bottom": null,
       "display": null,
       "flex": null,
       "flex_flow": null,
       "grid_area": null,
       "grid_auto_columns": null,
       "grid_auto_flow": null,
       "grid_auto_rows": null,
       "grid_column": null,
       "grid_gap": null,
       "grid_row": null,
       "grid_template_areas": null,
       "grid_template_columns": null,
       "grid_template_rows": null,
       "height": null,
       "justify_content": null,
       "justify_items": null,
       "left": null,
       "margin": null,
       "max_height": null,
       "max_width": null,
       "min_height": null,
       "min_width": null,
       "object_fit": null,
       "object_position": null,
       "order": null,
       "overflow": null,
       "overflow_x": null,
       "overflow_y": null,
       "padding": null,
       "right": null,
       "top": null,
       "visibility": null,
       "width": null
      }
     },
     "45b69288150f4f17ba70c7b11ad6422a": {
      "model_module": "@jupyter-widgets/controls",
      "model_module_version": "1.5.0",
      "model_name": "HBoxModel",
      "state": {
       "_dom_classes": [],
       "_model_module": "@jupyter-widgets/controls",
       "_model_module_version": "1.5.0",
       "_model_name": "HBoxModel",
       "_view_count": null,
       "_view_module": "@jupyter-widgets/controls",
       "_view_module_version": "1.5.0",
       "_view_name": "HBoxView",
       "box_style": "",
       "children": [
        "IPY_MODEL_522d361d4c314706a826e3149bb1bd50",
        "IPY_MODEL_8003479637f1471f8d8ca73176bea0be",
        "IPY_MODEL_9e747cc06a5d40949fdbfebadeb84a77"
       ],
       "layout": "IPY_MODEL_82da71d29ed34ea5accadcd6850e4219"
      }
     },
     "466e0ec617e14c32bdbf0d0a2fe2c4f0": {
      "model_module": "@jupyter-widgets/controls",
      "model_module_version": "1.5.0",
      "model_name": "ProgressStyleModel",
      "state": {
       "_model_module": "@jupyter-widgets/controls",
       "_model_module_version": "1.5.0",
       "_model_name": "ProgressStyleModel",
       "_view_count": null,
       "_view_module": "@jupyter-widgets/base",
       "_view_module_version": "1.2.0",
       "_view_name": "StyleView",
       "bar_color": null,
       "description_width": ""
      }
     },
     "48cc597cc38e463187dad5d364273b08": {
      "model_module": "@jupyter-widgets/base",
      "model_module_version": "1.2.0",
      "model_name": "LayoutModel",
      "state": {
       "_model_module": "@jupyter-widgets/base",
       "_model_module_version": "1.2.0",
       "_model_name": "LayoutModel",
       "_view_count": null,
       "_view_module": "@jupyter-widgets/base",
       "_view_module_version": "1.2.0",
       "_view_name": "LayoutView",
       "align_content": null,
       "align_items": null,
       "align_self": null,
       "border": null,
       "bottom": null,
       "display": null,
       "flex": null,
       "flex_flow": null,
       "grid_area": null,
       "grid_auto_columns": null,
       "grid_auto_flow": null,
       "grid_auto_rows": null,
       "grid_column": null,
       "grid_gap": null,
       "grid_row": null,
       "grid_template_areas": null,
       "grid_template_columns": null,
       "grid_template_rows": null,
       "height": null,
       "justify_content": null,
       "justify_items": null,
       "left": null,
       "margin": null,
       "max_height": null,
       "max_width": null,
       "min_height": null,
       "min_width": null,
       "object_fit": null,
       "object_position": null,
       "order": null,
       "overflow": null,
       "overflow_x": null,
       "overflow_y": null,
       "padding": null,
       "right": null,
       "top": null,
       "visibility": null,
       "width": null
      }
     },
     "48ff14a665b34940bee36e64565198fd": {
      "model_module": "@jupyter-widgets/controls",
      "model_module_version": "1.5.0",
      "model_name": "ProgressStyleModel",
      "state": {
       "_model_module": "@jupyter-widgets/controls",
       "_model_module_version": "1.5.0",
       "_model_name": "ProgressStyleModel",
       "_view_count": null,
       "_view_module": "@jupyter-widgets/base",
       "_view_module_version": "1.2.0",
       "_view_name": "StyleView",
       "bar_color": null,
       "description_width": ""
      }
     },
     "4eaf9ccd6c5745c0b1201dcfe673f42d": {
      "model_module": "@jupyter-widgets/controls",
      "model_module_version": "1.5.0",
      "model_name": "HBoxModel",
      "state": {
       "_dom_classes": [],
       "_model_module": "@jupyter-widgets/controls",
       "_model_module_version": "1.5.0",
       "_model_name": "HBoxModel",
       "_view_count": null,
       "_view_module": "@jupyter-widgets/controls",
       "_view_module_version": "1.5.0",
       "_view_name": "HBoxView",
       "box_style": "",
       "children": [
        "IPY_MODEL_83500a6279f14b23a5ccc64f93f0af86",
        "IPY_MODEL_e09a51747b5f4812807b58a5848868d0",
        "IPY_MODEL_9ad29bfcefb04b57825b3128704472c7"
       ],
       "layout": "IPY_MODEL_04ce5fd00f8e4697bdb0010bad9d062c"
      }
     },
     "513342ee12e74b0c93af266f01e58917": {
      "model_module": "@jupyter-widgets/base",
      "model_module_version": "1.2.0",
      "model_name": "LayoutModel",
      "state": {
       "_model_module": "@jupyter-widgets/base",
       "_model_module_version": "1.2.0",
       "_model_name": "LayoutModel",
       "_view_count": null,
       "_view_module": "@jupyter-widgets/base",
       "_view_module_version": "1.2.0",
       "_view_name": "LayoutView",
       "align_content": null,
       "align_items": null,
       "align_self": null,
       "border": null,
       "bottom": null,
       "display": null,
       "flex": null,
       "flex_flow": null,
       "grid_area": null,
       "grid_auto_columns": null,
       "grid_auto_flow": null,
       "grid_auto_rows": null,
       "grid_column": null,
       "grid_gap": null,
       "grid_row": null,
       "grid_template_areas": null,
       "grid_template_columns": null,
       "grid_template_rows": null,
       "height": null,
       "justify_content": null,
       "justify_items": null,
       "left": null,
       "margin": null,
       "max_height": null,
       "max_width": null,
       "min_height": null,
       "min_width": null,
       "object_fit": null,
       "object_position": null,
       "order": null,
       "overflow": null,
       "overflow_x": null,
       "overflow_y": null,
       "padding": null,
       "right": null,
       "top": null,
       "visibility": null,
       "width": null
      }
     },
     "522d361d4c314706a826e3149bb1bd50": {
      "model_module": "@jupyter-widgets/controls",
      "model_module_version": "1.5.0",
      "model_name": "HTMLModel",
      "state": {
       "_dom_classes": [],
       "_model_module": "@jupyter-widgets/controls",
       "_model_module_version": "1.5.0",
       "_model_name": "HTMLModel",
       "_view_count": null,
       "_view_module": "@jupyter-widgets/controls",
       "_view_module_version": "1.5.0",
       "_view_name": "HTMLView",
       "description": "",
       "description_tooltip": null,
       "layout": "IPY_MODEL_1f1abc38456e43118900f59027014c71",
       "placeholder": "​",
       "style": "IPY_MODEL_0bb4c3917b6c4d05b8dbf42b8ccfc432",
       "value": "Downloading: 100%"
      }
     },
     "55542c07a06f4e49b2c2b7f6cd731399": {
      "model_module": "@jupyter-widgets/base",
      "model_module_version": "1.2.0",
      "model_name": "LayoutModel",
      "state": {
       "_model_module": "@jupyter-widgets/base",
       "_model_module_version": "1.2.0",
       "_model_name": "LayoutModel",
       "_view_count": null,
       "_view_module": "@jupyter-widgets/base",
       "_view_module_version": "1.2.0",
       "_view_name": "LayoutView",
       "align_content": null,
       "align_items": null,
       "align_self": null,
       "border": null,
       "bottom": null,
       "display": null,
       "flex": null,
       "flex_flow": null,
       "grid_area": null,
       "grid_auto_columns": null,
       "grid_auto_flow": null,
       "grid_auto_rows": null,
       "grid_column": null,
       "grid_gap": null,
       "grid_row": null,
       "grid_template_areas": null,
       "grid_template_columns": null,
       "grid_template_rows": null,
       "height": null,
       "justify_content": null,
       "justify_items": null,
       "left": null,
       "margin": null,
       "max_height": null,
       "max_width": null,
       "min_height": null,
       "min_width": null,
       "object_fit": null,
       "object_position": null,
       "order": null,
       "overflow": null,
       "overflow_x": null,
       "overflow_y": null,
       "padding": null,
       "right": null,
       "top": null,
       "visibility": null,
       "width": null
      }
     },
     "68d0c8b590914256a749f61bff24cc98": {
      "model_module": "@jupyter-widgets/controls",
      "model_module_version": "1.5.0",
      "model_name": "DescriptionStyleModel",
      "state": {
       "_model_module": "@jupyter-widgets/controls",
       "_model_module_version": "1.5.0",
       "_model_name": "DescriptionStyleModel",
       "_view_count": null,
       "_view_module": "@jupyter-widgets/base",
       "_view_module_version": "1.2.0",
       "_view_name": "StyleView",
       "description_width": ""
      }
     },
     "6d1a423ae8bd4ac4ab8ded542fed28a0": {
      "model_module": "@jupyter-widgets/controls",
      "model_module_version": "1.5.0",
      "model_name": "FloatProgressModel",
      "state": {
       "_dom_classes": [],
       "_model_module": "@jupyter-widgets/controls",
       "_model_module_version": "1.5.0",
       "_model_name": "FloatProgressModel",
       "_view_count": null,
       "_view_module": "@jupyter-widgets/controls",
       "_view_module_version": "1.5.0",
       "_view_name": "ProgressView",
       "bar_style": "success",
       "description": "",
       "description_tooltip": null,
       "layout": "IPY_MODEL_f553d9fbf20a483b866e66a6d662a452",
       "max": 1135173,
       "min": 0,
       "orientation": "horizontal",
       "style": "IPY_MODEL_48ff14a665b34940bee36e64565198fd",
       "value": 1135173
      }
     },
     "8003479637f1471f8d8ca73176bea0be": {
      "model_module": "@jupyter-widgets/controls",
      "model_module_version": "1.5.0",
      "model_name": "FloatProgressModel",
      "state": {
       "_dom_classes": [],
       "_model_module": "@jupyter-widgets/controls",
       "_model_module_version": "1.5.0",
       "_model_name": "FloatProgressModel",
       "_view_count": null,
       "_view_module": "@jupyter-widgets/controls",
       "_view_module_version": "1.5.0",
       "_view_name": "ProgressView",
       "bar_style": "success",
       "description": "",
       "description_tooltip": null,
       "layout": "IPY_MODEL_a170bf1f9f0346808c03846cceb60d97",
       "max": 895321,
       "min": 0,
       "orientation": "horizontal",
       "style": "IPY_MODEL_466e0ec617e14c32bdbf0d0a2fe2c4f0",
       "value": 895321
      }
     },
     "82da71d29ed34ea5accadcd6850e4219": {
      "model_module": "@jupyter-widgets/base",
      "model_module_version": "1.2.0",
      "model_name": "LayoutModel",
      "state": {
       "_model_module": "@jupyter-widgets/base",
       "_model_module_version": "1.2.0",
       "_model_name": "LayoutModel",
       "_view_count": null,
       "_view_module": "@jupyter-widgets/base",
       "_view_module_version": "1.2.0",
       "_view_name": "LayoutView",
       "align_content": null,
       "align_items": null,
       "align_self": null,
       "border": null,
       "bottom": null,
       "display": null,
       "flex": null,
       "flex_flow": null,
       "grid_area": null,
       "grid_auto_columns": null,
       "grid_auto_flow": null,
       "grid_auto_rows": null,
       "grid_column": null,
       "grid_gap": null,
       "grid_row": null,
       "grid_template_areas": null,
       "grid_template_columns": null,
       "grid_template_rows": null,
       "height": null,
       "justify_content": null,
       "justify_items": null,
       "left": null,
       "margin": null,
       "max_height": null,
       "max_width": null,
       "min_height": null,
       "min_width": null,
       "object_fit": null,
       "object_position": null,
       "order": null,
       "overflow": null,
       "overflow_x": null,
       "overflow_y": null,
       "padding": null,
       "right": null,
       "top": null,
       "visibility": null,
       "width": null
      }
     },
     "83500a6279f14b23a5ccc64f93f0af86": {
      "model_module": "@jupyter-widgets/controls",
      "model_module_version": "1.5.0",
      "model_name": "HTMLModel",
      "state": {
       "_dom_classes": [],
       "_model_module": "@jupyter-widgets/controls",
       "_model_module_version": "1.5.0",
       "_model_name": "HTMLModel",
       "_view_count": null,
       "_view_module": "@jupyter-widgets/controls",
       "_view_module_version": "1.5.0",
       "_view_name": "HTMLView",
       "description": "",
       "description_tooltip": null,
       "layout": "IPY_MODEL_ecd4bcef4949480eb6a8a3cb77185bd4",
       "placeholder": "​",
       "style": "IPY_MODEL_ba40a9cfcaa24632a10c75799bc5dd9c",
       "value": "Downloading: 100%"
      }
     },
     "84586057d8734ded84c2908f58deac59": {
      "model_module": "@jupyter-widgets/controls",
      "model_module_version": "1.5.0",
      "model_name": "DescriptionStyleModel",
      "state": {
       "_model_module": "@jupyter-widgets/controls",
       "_model_module_version": "1.5.0",
       "_model_name": "DescriptionStyleModel",
       "_view_count": null,
       "_view_module": "@jupyter-widgets/base",
       "_view_module_version": "1.2.0",
       "_view_name": "StyleView",
       "description_width": ""
      }
     },
     "8d0ea3357ed14ddaaf2e59a733eac063": {
      "model_module": "@jupyter-widgets/base",
      "model_module_version": "1.2.0",
      "model_name": "LayoutModel",
      "state": {
       "_model_module": "@jupyter-widgets/base",
       "_model_module_version": "1.2.0",
       "_model_name": "LayoutModel",
       "_view_count": null,
       "_view_module": "@jupyter-widgets/base",
       "_view_module_version": "1.2.0",
       "_view_name": "LayoutView",
       "align_content": null,
       "align_items": null,
       "align_self": null,
       "border": null,
       "bottom": null,
       "display": null,
       "flex": null,
       "flex_flow": null,
       "grid_area": null,
       "grid_auto_columns": null,
       "grid_auto_flow": null,
       "grid_auto_rows": null,
       "grid_column": null,
       "grid_gap": null,
       "grid_row": null,
       "grid_template_areas": null,
       "grid_template_columns": null,
       "grid_template_rows": null,
       "height": null,
       "justify_content": null,
       "justify_items": null,
       "left": null,
       "margin": null,
       "max_height": null,
       "max_width": null,
       "min_height": null,
       "min_width": null,
       "object_fit": null,
       "object_position": null,
       "order": null,
       "overflow": null,
       "overflow_x": null,
       "overflow_y": null,
       "padding": null,
       "right": null,
       "top": null,
       "visibility": null,
       "width": null
      }
     },
     "9156ccfa505d4ece999e14de223cc1b5": {
      "model_module": "@jupyter-widgets/controls",
      "model_module_version": "1.5.0",
      "model_name": "HTMLModel",
      "state": {
       "_dom_classes": [],
       "_model_module": "@jupyter-widgets/controls",
       "_model_module_version": "1.5.0",
       "_model_name": "HTMLModel",
       "_view_count": null,
       "_view_module": "@jupyter-widgets/controls",
       "_view_module_version": "1.5.0",
       "_view_name": "HTMLView",
       "description": "",
       "description_tooltip": null,
       "layout": "IPY_MODEL_48cc597cc38e463187dad5d364273b08",
       "placeholder": "​",
       "style": "IPY_MODEL_99b9ee91194f416587c557651b4789d1",
       "value": "Downloading: 100%"
      }
     },
     "93ddc9a70eff49ffb13b38e6aafade76": {
      "model_module": "@jupyter-widgets/controls",
      "model_module_version": "1.5.0",
      "model_name": "ProgressStyleModel",
      "state": {
       "_model_module": "@jupyter-widgets/controls",
       "_model_module_version": "1.5.0",
       "_model_name": "ProgressStyleModel",
       "_view_count": null,
       "_view_module": "@jupyter-widgets/base",
       "_view_module_version": "1.2.0",
       "_view_name": "StyleView",
       "bar_color": null,
       "description_width": ""
      }
     },
     "963a5d9fafa342b480cc996a6faf52fe": {
      "model_module": "@jupyter-widgets/controls",
      "model_module_version": "1.5.0",
      "model_name": "HBoxModel",
      "state": {
       "_dom_classes": [],
       "_model_module": "@jupyter-widgets/controls",
       "_model_module_version": "1.5.0",
       "_model_name": "HBoxModel",
       "_view_count": null,
       "_view_module": "@jupyter-widgets/controls",
       "_view_module_version": "1.5.0",
       "_view_name": "HBoxView",
       "box_style": "",
       "children": [
        "IPY_MODEL_9156ccfa505d4ece999e14de223cc1b5",
        "IPY_MODEL_064ec52711b744f59d4acdc33eea140c",
        "IPY_MODEL_d2a245cce9ca4e5682e497b3bcd0fbd0"
       ],
       "layout": "IPY_MODEL_305086a2b2984235b8506dbe3dfab422"
      }
     },
     "98dabec2417e43c0a1cdd724a88a78c0": {
      "model_module": "@jupyter-widgets/base",
      "model_module_version": "1.2.0",
      "model_name": "LayoutModel",
      "state": {
       "_model_module": "@jupyter-widgets/base",
       "_model_module_version": "1.2.0",
       "_model_name": "LayoutModel",
       "_view_count": null,
       "_view_module": "@jupyter-widgets/base",
       "_view_module_version": "1.2.0",
       "_view_name": "LayoutView",
       "align_content": null,
       "align_items": null,
       "align_self": null,
       "border": null,
       "bottom": null,
       "display": null,
       "flex": null,
       "flex_flow": null,
       "grid_area": null,
       "grid_auto_columns": null,
       "grid_auto_flow": null,
       "grid_auto_rows": null,
       "grid_column": null,
       "grid_gap": null,
       "grid_row": null,
       "grid_template_areas": null,
       "grid_template_columns": null,
       "grid_template_rows": null,
       "height": null,
       "justify_content": null,
       "justify_items": null,
       "left": null,
       "margin": null,
       "max_height": null,
       "max_width": null,
       "min_height": null,
       "min_width": null,
       "object_fit": null,
       "object_position": null,
       "order": null,
       "overflow": null,
       "overflow_x": null,
       "overflow_y": null,
       "padding": null,
       "right": null,
       "top": null,
       "visibility": null,
       "width": null
      }
     },
     "99b9ee91194f416587c557651b4789d1": {
      "model_module": "@jupyter-widgets/controls",
      "model_module_version": "1.5.0",
      "model_name": "DescriptionStyleModel",
      "state": {
       "_model_module": "@jupyter-widgets/controls",
       "_model_module_version": "1.5.0",
       "_model_name": "DescriptionStyleModel",
       "_view_count": null,
       "_view_module": "@jupyter-widgets/base",
       "_view_module_version": "1.2.0",
       "_view_name": "StyleView",
       "description_width": ""
      }
     },
     "99fa245b3cb446158dd875e40a8e11e2": {
      "model_module": "@jupyter-widgets/controls",
      "model_module_version": "1.5.0",
      "model_name": "DescriptionStyleModel",
      "state": {
       "_model_module": "@jupyter-widgets/controls",
       "_model_module_version": "1.5.0",
       "_model_name": "DescriptionStyleModel",
       "_view_count": null,
       "_view_module": "@jupyter-widgets/base",
       "_view_module_version": "1.2.0",
       "_view_name": "StyleView",
       "description_width": ""
      }
     },
     "9ad29bfcefb04b57825b3128704472c7": {
      "model_module": "@jupyter-widgets/controls",
      "model_module_version": "1.5.0",
      "model_name": "HTMLModel",
      "state": {
       "_dom_classes": [],
       "_model_module": "@jupyter-widgets/controls",
       "_model_module_version": "1.5.0",
       "_model_name": "HTMLModel",
       "_view_count": null,
       "_view_module": "@jupyter-widgets/controls",
       "_view_module_version": "1.5.0",
       "_view_name": "HTMLView",
       "description": "",
       "description_tooltip": null,
       "layout": "IPY_MODEL_513342ee12e74b0c93af266f01e58917",
       "placeholder": "​",
       "style": "IPY_MODEL_84586057d8734ded84c2908f58deac59",
       "value": " 557/557 [00:00&lt;00:00, 21.6kB/s]"
      }
     },
     "9e747cc06a5d40949fdbfebadeb84a77": {
      "model_module": "@jupyter-widgets/controls",
      "model_module_version": "1.5.0",
      "model_name": "HTMLModel",
      "state": {
       "_dom_classes": [],
       "_model_module": "@jupyter-widgets/controls",
       "_model_module_version": "1.5.0",
       "_model_name": "HTMLModel",
       "_view_count": null,
       "_view_module": "@jupyter-widgets/controls",
       "_view_module_version": "1.5.0",
       "_view_name": "HTMLView",
       "description": "",
       "description_tooltip": null,
       "layout": "IPY_MODEL_04e9257ab2574bd5903908f14f94a9e3",
       "placeholder": "​",
       "style": "IPY_MODEL_99fa245b3cb446158dd875e40a8e11e2",
       "value": " 874k/874k [00:00&lt;00:00, 2.94MB/s]"
      }
     },
     "a170bf1f9f0346808c03846cceb60d97": {
      "model_module": "@jupyter-widgets/base",
      "model_module_version": "1.2.0",
      "model_name": "LayoutModel",
      "state": {
       "_model_module": "@jupyter-widgets/base",
       "_model_module_version": "1.2.0",
       "_model_name": "LayoutModel",
       "_view_count": null,
       "_view_module": "@jupyter-widgets/base",
       "_view_module_version": "1.2.0",
       "_view_name": "LayoutView",
       "align_content": null,
       "align_items": null,
       "align_self": null,
       "border": null,
       "bottom": null,
       "display": null,
       "flex": null,
       "flex_flow": null,
       "grid_area": null,
       "grid_auto_columns": null,
       "grid_auto_flow": null,
       "grid_auto_rows": null,
       "grid_column": null,
       "grid_gap": null,
       "grid_row": null,
       "grid_template_areas": null,
       "grid_template_columns": null,
       "grid_template_rows": null,
       "height": null,
       "justify_content": null,
       "justify_items": null,
       "left": null,
       "margin": null,
       "max_height": null,
       "max_width": null,
       "min_height": null,
       "min_width": null,
       "object_fit": null,
       "object_position": null,
       "order": null,
       "overflow": null,
       "overflow_x": null,
       "overflow_y": null,
       "padding": null,
       "right": null,
       "top": null,
       "visibility": null,
       "width": null
      }
     },
     "a8446a3a7bd349d8b5dfd039be6cce06": {
      "model_module": "@jupyter-widgets/base",
      "model_module_version": "1.2.0",
      "model_name": "LayoutModel",
      "state": {
       "_model_module": "@jupyter-widgets/base",
       "_model_module_version": "1.2.0",
       "_model_name": "LayoutModel",
       "_view_count": null,
       "_view_module": "@jupyter-widgets/base",
       "_view_module_version": "1.2.0",
       "_view_name": "LayoutView",
       "align_content": null,
       "align_items": null,
       "align_self": null,
       "border": null,
       "bottom": null,
       "display": null,
       "flex": null,
       "flex_flow": null,
       "grid_area": null,
       "grid_auto_columns": null,
       "grid_auto_flow": null,
       "grid_auto_rows": null,
       "grid_column": null,
       "grid_gap": null,
       "grid_row": null,
       "grid_template_areas": null,
       "grid_template_columns": null,
       "grid_template_rows": null,
       "height": null,
       "justify_content": null,
       "justify_items": null,
       "left": null,
       "margin": null,
       "max_height": null,
       "max_width": null,
       "min_height": null,
       "min_width": null,
       "object_fit": null,
       "object_position": null,
       "order": null,
       "overflow": null,
       "overflow_x": null,
       "overflow_y": null,
       "padding": null,
       "right": null,
       "top": null,
       "visibility": null,
       "width": null
      }
     },
     "b4ab36ec62144cbdb6e0d4afcbce8f95": {
      "model_module": "@jupyter-widgets/controls",
      "model_module_version": "1.5.0",
      "model_name": "DescriptionStyleModel",
      "state": {
       "_model_module": "@jupyter-widgets/controls",
       "_model_module_version": "1.5.0",
       "_model_name": "DescriptionStyleModel",
       "_view_count": null,
       "_view_module": "@jupyter-widgets/base",
       "_view_module_version": "1.2.0",
       "_view_name": "StyleView",
       "description_width": ""
      }
     },
     "ba40a9cfcaa24632a10c75799bc5dd9c": {
      "model_module": "@jupyter-widgets/controls",
      "model_module_version": "1.5.0",
      "model_name": "DescriptionStyleModel",
      "state": {
       "_model_module": "@jupyter-widgets/controls",
       "_model_module_version": "1.5.0",
       "_model_name": "DescriptionStyleModel",
       "_view_count": null,
       "_view_module": "@jupyter-widgets/base",
       "_view_module_version": "1.2.0",
       "_view_name": "StyleView",
       "description_width": ""
      }
     },
     "d2a245cce9ca4e5682e497b3bcd0fbd0": {
      "model_module": "@jupyter-widgets/controls",
      "model_module_version": "1.5.0",
      "model_name": "HTMLModel",
      "state": {
       "_dom_classes": [],
       "_model_module": "@jupyter-widgets/controls",
       "_model_module_version": "1.5.0",
       "_model_name": "HTMLModel",
       "_view_count": null,
       "_view_module": "@jupyter-widgets/controls",
       "_view_module_version": "1.5.0",
       "_view_name": "HTMLView",
       "description": "",
       "description_tooltip": null,
       "layout": "IPY_MODEL_29156c3a68a14cd68ca1cd2beb5d61cb",
       "placeholder": "​",
       "style": "IPY_MODEL_ff2bbf51a8bb4e96b898a71d4dfd58c6",
       "value": " 518M/518M [00:12&lt;00:00, 48.3MB/s]"
      }
     },
     "e09a51747b5f4812807b58a5848868d0": {
      "model_module": "@jupyter-widgets/controls",
      "model_module_version": "1.5.0",
      "model_name": "FloatProgressModel",
      "state": {
       "_dom_classes": [],
       "_model_module": "@jupyter-widgets/controls",
       "_model_module_version": "1.5.0",
       "_model_name": "FloatProgressModel",
       "_view_count": null,
       "_view_module": "@jupyter-widgets/controls",
       "_view_module_version": "1.5.0",
       "_view_name": "ProgressView",
       "bar_style": "success",
       "description": "",
       "description_tooltip": null,
       "layout": "IPY_MODEL_98dabec2417e43c0a1cdd724a88a78c0",
       "max": 557,
       "min": 0,
       "orientation": "horizontal",
       "style": "IPY_MODEL_93ddc9a70eff49ffb13b38e6aafade76",
       "value": 557
      }
     },
     "ecd4bcef4949480eb6a8a3cb77185bd4": {
      "model_module": "@jupyter-widgets/base",
      "model_module_version": "1.2.0",
      "model_name": "LayoutModel",
      "state": {
       "_model_module": "@jupyter-widgets/base",
       "_model_module_version": "1.2.0",
       "_model_name": "LayoutModel",
       "_view_count": null,
       "_view_module": "@jupyter-widgets/base",
       "_view_module_version": "1.2.0",
       "_view_name": "LayoutView",
       "align_content": null,
       "align_items": null,
       "align_self": null,
       "border": null,
       "bottom": null,
       "display": null,
       "flex": null,
       "flex_flow": null,
       "grid_area": null,
       "grid_auto_columns": null,
       "grid_auto_flow": null,
       "grid_auto_rows": null,
       "grid_column": null,
       "grid_gap": null,
       "grid_row": null,
       "grid_template_areas": null,
       "grid_template_columns": null,
       "grid_template_rows": null,
       "height": null,
       "justify_content": null,
       "justify_items": null,
       "left": null,
       "margin": null,
       "max_height": null,
       "max_width": null,
       "min_height": null,
       "min_width": null,
       "object_fit": null,
       "object_position": null,
       "order": null,
       "overflow": null,
       "overflow_x": null,
       "overflow_y": null,
       "padding": null,
       "right": null,
       "top": null,
       "visibility": null,
       "width": null
      }
     },
     "f553d9fbf20a483b866e66a6d662a452": {
      "model_module": "@jupyter-widgets/base",
      "model_module_version": "1.2.0",
      "model_name": "LayoutModel",
      "state": {
       "_model_module": "@jupyter-widgets/base",
       "_model_module_version": "1.2.0",
       "_model_name": "LayoutModel",
       "_view_count": null,
       "_view_module": "@jupyter-widgets/base",
       "_view_module_version": "1.2.0",
       "_view_name": "LayoutView",
       "align_content": null,
       "align_items": null,
       "align_self": null,
       "border": null,
       "bottom": null,
       "display": null,
       "flex": null,
       "flex_flow": null,
       "grid_area": null,
       "grid_auto_columns": null,
       "grid_auto_flow": null,
       "grid_auto_rows": null,
       "grid_column": null,
       "grid_gap": null,
       "grid_row": null,
       "grid_template_areas": null,
       "grid_template_columns": null,
       "grid_template_rows": null,
       "height": null,
       "justify_content": null,
       "justify_items": null,
       "left": null,
       "margin": null,
       "max_height": null,
       "max_width": null,
       "min_height": null,
       "min_width": null,
       "object_fit": null,
       "object_position": null,
       "order": null,
       "overflow": null,
       "overflow_x": null,
       "overflow_y": null,
       "padding": null,
       "right": null,
       "top": null,
       "visibility": null,
       "width": null
      }
     },
     "ff152921acec403691f047aa2a8355cc": {
      "model_module": "@jupyter-widgets/controls",
      "model_module_version": "1.5.0",
      "model_name": "HBoxModel",
      "state": {
       "_dom_classes": [],
       "_model_module": "@jupyter-widgets/controls",
       "_model_module_version": "1.5.0",
       "_model_name": "HBoxModel",
       "_view_count": null,
       "_view_module": "@jupyter-widgets/controls",
       "_view_module_version": "1.5.0",
       "_view_name": "HBoxView",
       "box_style": "",
       "children": [
        "IPY_MODEL_0975838416ba425981f7f407ee0f3c17",
        "IPY_MODEL_6d1a423ae8bd4ac4ab8ded542fed28a0",
        "IPY_MODEL_0318ac371aa14baf97a6eeaaaaf6f103"
       ],
       "layout": "IPY_MODEL_1e7a682c734545f2a3c64d81d002061b"
      }
     },
     "ff2bbf51a8bb4e96b898a71d4dfd58c6": {
      "model_module": "@jupyter-widgets/controls",
      "model_module_version": "1.5.0",
      "model_name": "DescriptionStyleModel",
      "state": {
       "_model_module": "@jupyter-widgets/controls",
       "_model_module_version": "1.5.0",
       "_model_name": "DescriptionStyleModel",
       "_view_count": null,
       "_view_module": "@jupyter-widgets/base",
       "_view_module_version": "1.2.0",
       "_view_name": "StyleView",
       "description_width": ""
      }
     }
    },
    "version_major": 2,
    "version_minor": 0
   }
  }
 },
 "nbformat": 4,
 "nbformat_minor": 5
}
